{
 "cells": [
  {
   "cell_type": "code",
   "execution_count": 1,
   "id": "584e1a3d-39ff-46d4-b43e-3992b4f695c2",
   "metadata": {},
   "outputs": [],
   "source": [
    "from pyspark.sql import *\n",
    "import pyspark.sql.functions as F\n",
    "from pyspark.sql.types import *\n",
    "from pyspark.sql.functions import udf\n",
    "import os\n",
    "import json\n",
    "import sqlalchemy\n",
    "from sqlalchemy import create_engine\n",
    "import pandas as pd\n",
    "import psycopg2"
   ]
  },
  {
   "cell_type": "markdown",
   "id": "5deae256-f6a3-4fc1-9ca1-f2ad408994a3",
   "metadata": {},
   "source": [
    "# Values"
   ]
  },
  {
   "cell_type": "code",
   "execution_count": 13,
   "id": "37fa89aa-70e7-4e07-bc09-14370757f854",
   "metadata": {},
   "outputs": [],
   "source": [
    "WIKIPEDIA_DUMP_XML_PATH=\"enwiki-latest-abstract.xml\"\n",
    "WIKIPEDIA_DUMP_SCHEMA_PATH=\"xml_schema.json\"\n",
    "MOVIES_METADATA_CSV_PATH=\"movies_metadata.csv\"\n",
    "TOP100_PARQUET_PATH=\"ouput/top100byratio_wiki.parquet\"\n",
    "TOP100_CSV_PATH=\"ouput/top100byratio_wiki.csv\""
   ]
  },
  {
   "cell_type": "code",
   "execution_count": 14,
   "id": "85d053da-5411-49bd-83cb-9a347edb39c9",
   "metadata": {},
   "outputs": [],
   "source": [
    "POSTGRES_HOST=\"postgres-db\"\n",
    "POSTGRES_PWD=\"postgres\"\n",
    "POSTGRES_USER=\"postgres\"\n",
    "POSTGRES_PORT=\"5432\"\n",
    "POSTGRES_DB=\"movies\"\n",
    "POSTGRES_TABLE=\"top100byRatio\"\n",
    "POSTGRES_CONNECTION_STRING=\"postgresql://{user}:{password}@{host}:{port}/{db}\".format(user=POSTGRES_USER,\n",
    "                                                                                      password=POSTGRES_PWD,\n",
    "                                                                                      host=POSTGRES_HOST,\n",
    "                                                                                      port=POSTGRES_PORT,\n",
    "                                                                                      db=POSTGRES_DB)\n",
    "JDBC_CONNECTION_STRING=\"jdbc:postgresql://{host}:{port}/{db}\".format(host=POSTGRES_HOST,\n",
    "                                                                     port=POSTGRES_PORT,\n",
    "                                                                     db=POSTGRES_DB)"
   ]
  },
  {
   "cell_type": "code",
   "execution_count": 10,
   "id": "920c5c90-b262-41bd-8569-3619b19aa1f7",
   "metadata": {},
   "outputs": [
    {
     "data": {
      "text/plain": [
       "StructType(List(StructField(abstract,StringType,true),StructField(links,StringType,true),StructField(title,StringType,true),StructField(url,StringType,true)))"
      ]
     },
     "execution_count": 10,
     "metadata": {},
     "output_type": "execute_result"
    }
   ],
   "source": [
    "xml_schema_file=open(WIKIPEDIA_DUMP_SCHEMA_PATH)\n",
    "WIKIPEDIA_DUMP_XML_SCHEMA=StructType.fromJson(json.load(xml_schema_file))\n",
    "xml_schema_file.close()\n",
    "WIKIPEDIA_DUMP_XML_SCHEMA"
   ]
  },
  {
   "cell_type": "code",
   "execution_count": 11,
   "id": "f451bab9-db9d-4708-8673-554f64083462",
   "metadata": {},
   "outputs": [],
   "source": [
    "postgres_connection_properties = {\n",
    "     \"url\" : JDBC_CONNECTION_STRING,\n",
    "     \"table\" : POSTGRES_TABLE,\n",
    "     \"user\" : POSTGRES_USER,\n",
    "     \"password\" : POSTGRES_PWD,\n",
    "     \"driver\" : 'org.postgresql.Driver',\n",
    "\n",
    "}"
   ]
  },
  {
   "cell_type": "markdown",
   "id": "54159279-0515-4389-a7ca-f709e3b6365c",
   "metadata": {},
   "source": [
    "# Download Files"
   ]
  },
  {
   "cell_type": "code",
   "execution_count": 6,
   "id": "7690f71b-a676-4d6b-848f-42690ceba721",
   "metadata": {},
   "outputs": [],
   "source": [
    "!curl -o enwiki-latest-abstract.xml.gz https://dumps.wikimedia.org/enwiki/latest/enwiki-latest-abstract.xml.gz"
   ]
  },
  {
   "cell_type": "code",
   "execution_count": 7,
   "id": "09c8a7f5-77b9-4d91-b0ea-353f612e31e6",
   "metadata": {},
   "outputs": [],
   "source": [
    "!gzip -d enwiki-latest-abstract.xml.gz"
   ]
  },
  {
   "cell_type": "code",
   "execution_count": 8,
   "id": "b2fca560-e27d-4ff4-b124-9c68b468cc07",
   "metadata": {},
   "outputs": [
    {
     "data": {
      "text/plain": [
       "True"
      ]
     },
     "execution_count": 8,
     "metadata": {},
     "output_type": "execute_result"
    }
   ],
   "source": [
    "os.path.isfile(WIKIPEDIA_DUMP_XML_PATH)"
   ]
  },
  {
   "cell_type": "code",
   "execution_count": 9,
   "id": "40108149-70b4-469c-8a1e-d93201f51e25",
   "metadata": {},
   "outputs": [
    {
     "data": {
      "text/plain": [
       "True"
      ]
     },
     "execution_count": 9,
     "metadata": {},
     "output_type": "execute_result"
    }
   ],
   "source": [
    "os.path.isfile(MOVIES_METADATA_CSV_PATH)"
   ]
  },
  {
   "cell_type": "markdown",
   "id": "982d339c-c61a-458b-8b75-64297c92c693",
   "metadata": {},
   "source": [
    "# Functions"
   ]
  },
  {
   "cell_type": "markdown",
   "id": "4fa03f08-04e5-4d82-9dba-3abb3414c060",
   "metadata": {},
   "source": [
    "# Process"
   ]
  },
  {
   "cell_type": "markdown",
   "id": "7c87217c-705c-4aa7-9f18-ba8e6083b29e",
   "metadata": {},
   "source": [
    "### Read film metadata and select fields of our interest"
   ]
  },
  {
   "cell_type": "code",
   "execution_count": null,
   "id": "d9758009",
   "metadata": {},
   "outputs": [],
   "source": [
    "spark = SparkSession \\\n",
    "    .builder \\\n",
    "    .getOrCreate()\n",
    "spark"
   ]
  },
  {
   "cell_type": "code",
   "execution_count": 10,
   "id": "bf9e9bf6-d4f0-4d78-bbd4-58c8af9eeef1",
   "metadata": {},
   "outputs": [
    {
     "name": "stdout",
     "output_type": "stream",
     "text": [
      "+-----+---------------------+--------+--------------------+--------------------+-----+---------+-----------------+--------------------+--------------------+----------+--------------------+--------------------+--------------------+--------------------+--------------------+--------------------+--------------------+--------+--------------------+--------------------+--------+--------------------+-----------------+\n",
      "|adult|belongs_to_collection|  budget|              genres|            homepage|   id|  imdb_id|original_language|      original_title|            overview|popularity|         poster_path|production_companies|production_countries|        release_date|             revenue|             runtime|    spoken_languages|  status|             tagline|               title|   video|        vote_average|       vote_count|\n",
      "+-----+---------------------+--------+--------------------+--------------------+-----+---------+-----------------+--------------------+--------------------+----------+--------------------+--------------------+--------------------+--------------------+--------------------+--------------------+--------------------+--------+--------------------+--------------------+--------+--------------------+-----------------+\n",
      "|False| {'id': 10194, 'na...|30000000|[{'id': 16, 'name...|http://toystory.d...|  862|tt0114709|               en|           Toy Story|Led by Woody, And...| 21.946943|/rhIRbceoE9lR4veE...|[{'name': 'Pixar ...|[{'iso_3166_1': '...|          1995-10-30|           373554033|                81.0|[{'iso_639_1': 'e...|Released|                null|           Toy Story|   False|                 7.7|             5415|\n",
      "|False|                 null|65000000|[{'id': 12, 'name...|                null| 8844|tt0113497|               en|             Jumanji|When siblings Jud...| 17.015539|/vzmL6fP7aPKNKPRT...|[{'name': 'TriSta...|[{'iso_3166_1': '...|          1995-12-15|           262797249|               104.0|[{'iso_639_1': 'e...|Released|Roll the dice and...|             Jumanji|   False|                 6.9|             2413|\n",
      "|False| {'id': 119050, 'n...|       0|[{'id': 10749, 'n...|                null|15602|tt0113228|               en|    Grumpier Old Men|A family wedding ...|   11.7129|/6ksm1sjKMFLbO7UY...|[{'name': 'Warner...|[{'iso_3166_1': '...|          1995-12-22|                   0|               101.0|[{'iso_639_1': 'e...|Released|Still Yelling. St...|    Grumpier Old Men|   False|                 6.5|               92|\n",
      "|False|                 null|16000000|[{'id': 35, 'name...|                null|31357|tt0114885|               en|   Waiting to Exhale|\"Cheated on, mist...|    Bernie| Glo and Robin ta...| determined to fi...|            3.859495|/16XOMpEaLWkrcPqS...|[{'name': 'Twenti...|[{'iso_3166_1': '...|          1995-12-22|81452156|               127.0|[{'iso_639_1': 'e...|Released|Friends are the p...|Waiting to Exhale|\n",
      "|False| {'id': 96871, 'na...|       0|[{'id': 35, 'name...|                null|11862|tt0113041|               en|Father of the Bri...|Just when George ...|  8.387519|/e64sOI48hQXyru7n...|[{'name': 'Sandol...|[{'iso_3166_1': '...|          1995-02-10|            76578911|               106.0|[{'iso_639_1': 'e...|Released|Just When His Wor...|Father of the Bri...|   False|                 5.7|              173|\n",
      "|False|                 null|60000000|[{'id': 28, 'name...|                null|  949|tt0113277|               en|                Heat|Obsessive master ...| 17.924927|/zMyfPUelumio3tiD...|[{'name': 'Regenc...|[{'iso_3166_1': '...|          1995-12-15|           187436818|               170.0|[{'iso_639_1': 'e...|Released|A Los Angeles Cri...|                Heat|   False|                 7.7|             1886|\n",
      "|False|                 null|58000000|[{'id': 35, 'name...|                null|11860|tt0114319|               en|             Sabrina|An ugly duckling ...|  6.677277|/jQh15y5YB7bWz1Nt...|[{'name': 'Paramo...|[{'iso_3166_1': '...|          1995-12-15|                   0|               127.0|[{'iso_639_1': 'f...|Released|You are cordially...|             Sabrina|   False|                 6.2|              141|\n",
      "|False|                 null|       0|[{'id': 28, 'name...|                null|45325|tt0112302|               en|        Tom and Huck|A mischievous you...|  2.561161|/sGO5Qa55p7wTu7FJ...|[{'name': 'Walt D...|[{'iso_3166_1': '...|          1995-12-22|                   0|                97.0|[{'iso_639_1': 'e...|Released|The Original Bad ...|        Tom and Huck|   False|                 5.4|               45|\n",
      "|False|                 null|35000000|[{'id': 28, 'name...|                null| 9091|tt0114576|               en|        Sudden Death|International act...|   5.23158|/eoWvKD60lT95Ss1M...|[{'name': 'Univer...|[{'iso_3166_1': '...|          1995-12-22|            64350171|               106.0|[{'iso_639_1': 'e...|Released|Terror goes into ...|        Sudden Death|   False|                 5.5|              174|\n",
      "|False| {'id': 645, 'name...|58000000|[{'id': 12, 'name...|http://www.mgm.co...|  710|tt0113189|               en|           GoldenEye|James Bond must u...| 14.686036|/5c0ovjT41KnYIHYu...|[{'name': 'United...|[{'iso_3166_1': '...|          1995-11-16|           352194034|               130.0|[{'iso_639_1': 'e...|Released|No limits. No fea...|           GoldenEye|   False|                 6.6|             1194|\n",
      "|False|                 null|62000000|[{'id': 35, 'name...|                null| 9087|tt0112346|               en|The American Pres...|Widowed U.S. pres...|  6.318445|/lymPNGLZgPHuqM29...|[{'name': 'Columb...|[{'iso_3166_1': '...|          1995-11-17|           107879496|               106.0|[{'iso_639_1': 'e...|Released|Why can't the mos...|The American Pres...|   False|                 6.5|              199|\n",
      "|False|                 null|       0|[{'id': 35, 'name...|                null|12110|tt0112896|               en|Dracula: Dead and...|When a lawyer sho...|  5.430331|/xve4cgfYItnOhtzL...|[{'name': 'Columb...|[{'iso_3166_1': '...|          1995-12-22|                   0|                88.0|[{'iso_639_1': 'e...|Released|                null|Dracula: Dead and...|   False|                 5.7|              210|\n",
      "|False| {'id': 117693, 'n...|       0|[{'id': 10751, 'n...|                null|21032|tt0112453|               en|               Balto|An outcast half-w...| 12.140733|/gV5PCAVCPNxlOLFM...|[{'name': 'Univer...|[{'iso_3166_1': '...|          1995-12-22|            11348324|                78.0|[{'iso_639_1': 'e...|Released|Part Dog. Part Wo...|               Balto|   False|                 7.1|              423|\n",
      "|False|                 null|44000000|[{'id': 36, 'name...|                null|10858|tt0113987|               en|               Nixon|An all-star cast ...|     5.092|/cICkmCEiXRhvZmbu...|[{'name': 'Hollyw...|[{'iso_3166_1': '...|          1995-12-22|            13681765|               192.0|[{'iso_639_1': 'e...|Released|Triumphant in Vic...|               Nixon|   False|                 7.1|               72|\n",
      "|False|                 null|98000000|[{'id': 28, 'name...|                null| 1408|tt0112760|               en|    Cutthroat Island|Morgan Adams and ...|  7.284477|/odM9973kIv9hcjfH...|[{'name': 'Le Stu...|[{'iso_3166_1': '...|          1995-12-22|            10017322|               119.0|[{'iso_639_1': 'e...|Released|The Course Has Be...|    Cutthroat Island|   False|                 5.7|              137|\n",
      "|False|                 null|52000000|[{'id': 18, 'name...|                null|  524|tt0112641|               en|              Casino|The life of the g...| 10.137389|/xo517ibXBDdYQY81...|[{'name': 'Univer...|[{'iso_3166_1': '...|          1995-11-22|           116112375|               178.0|[{'iso_639_1': 'e...|Released|No one stays at t...|              Casino|   False|                 7.8|             1343|\n",
      "|False|                 null|16500000|[{'id': 18, 'name...|                null| 4584|tt0114388|               en|Sense and Sensibi...|Rich Mr. Dashwood...| 10.673167|/lA9HTy84Bb6ZwNey...|[{'name': 'Columb...|[{'iso_3166_1': '...|          1995-12-13|           135000000|               136.0|[{'iso_639_1': 'e...|Released|Lose your heart a...|Sense and Sensibi...|   False|                 7.2|              364|\n",
      "|False|                 null| 4000000|[{'id': 80, 'name...|                null|    5|tt0113101|               en|          Four Rooms|It's Ted the Bell...|  9.026586|/eQs5hh9rxrk1m4xH...|[{'name': 'Mirama...|[{'iso_3166_1': '...|          1995-12-09|             4300000|                98.0|[{'iso_639_1': 'e...|Released|Twelve outrageous...|          Four Rooms|   False|                 6.5|              539|\n",
      "|False| {'id': 3167, 'nam...|30000000|[{'id': 80, 'name...|                null| 9273|tt0112281|               en|Ace Ventura: When...|Summoned from an ...|  8.205448|/wRlGnJhEzcxBjvWt...|[{'name': 'O Ente...|[{'iso_3166_1': '...|          1995-11-10|           212385533|                90.0|[{'iso_639_1': 'e...|Released|New animals. New ...|Ace Ventura: When...|   False|                 6.1|             1128|\n",
      "|False|                 null|60000000|[{'id': 28, 'name...|                null|11517|tt0113845|               en|         Money Train|A vengeful New Yo...|  7.337906|/jSozzzVOR2kfXgTU...|[{'name': 'Columb...|[{'iso_3166_1': '...|          1995-11-21|            35431113|               103.0|[{'iso_639_1': 'e...|Released|Get on, or GET OU...|         Money Train|   False|                 5.4|              224|\n",
      "+-----+---------------------+--------+--------------------+--------------------+-----+---------+-----------------+--------------------+--------------------+----------+--------------------+--------------------+--------------------+--------------------+--------------------+--------------------+--------------------+--------+--------------------+--------------------+--------+--------------------+-----------------+\n",
      "only showing top 20 rows\n",
      "\n"
     ]
    }
   ],
   "source": [
    "metadata_df=spark.read.csv(MOVIES_METADATA_CSV_PATH, header=True)\n",
    "metadata_df.show()"
   ]
  },
  {
   "cell_type": "markdown",
   "id": "a68a462c-8e13-4a90-92e0-56eb214188e4",
   "metadata": {},
   "source": [
    "##### field 'year' will be obtained from 'release_date'\n",
    "##### field 'vote_average' will be renamed 'rating' as requested"
   ]
  },
  {
   "cell_type": "code",
   "execution_count": 11,
   "id": "7a2c29eb-dd6d-4bf2-b2e6-e4a68017f6bf",
   "metadata": {},
   "outputs": [
    {
     "name": "stdout",
     "output_type": "stream",
     "text": [
      "+-----+---------+--------------------+--------+--------------------+--------------------+--------------------+--------------------+\n",
      "|   id|  imdb_id|      original_title|  budget|             revenue|        release_date|        vote_average|production_companies|\n",
      "+-----+---------+--------------------+--------+--------------------+--------------------+--------------------+--------------------+\n",
      "|  862|tt0114709|           Toy Story|30000000|           373554033|          1995-10-30|                 7.7|[{'name': 'Pixar ...|\n",
      "| 8844|tt0113497|             Jumanji|65000000|           262797249|          1995-12-15|                 6.9|[{'name': 'TriSta...|\n",
      "|15602|tt0113228|    Grumpier Old Men|       0|                   0|          1995-12-22|                 6.5|[{'name': 'Warner...|\n",
      "|31357|tt0114885|   Waiting to Exhale|16000000|[{'name': 'Twenti...|/16XOMpEaLWkrcPqS...|Friends are the p...| determined to fi...|\n",
      "|11862|tt0113041|Father of the Bri...|       0|            76578911|          1995-02-10|                 5.7|[{'name': 'Sandol...|\n",
      "|  949|tt0113277|                Heat|60000000|           187436818|          1995-12-15|                 7.7|[{'name': 'Regenc...|\n",
      "|11860|tt0114319|             Sabrina|58000000|                   0|          1995-12-15|                 6.2|[{'name': 'Paramo...|\n",
      "|45325|tt0112302|        Tom and Huck|       0|                   0|          1995-12-22|                 5.4|[{'name': 'Walt D...|\n",
      "| 9091|tt0114576|        Sudden Death|35000000|            64350171|          1995-12-22|                 5.5|[{'name': 'Univer...|\n",
      "|  710|tt0113189|           GoldenEye|58000000|           352194034|          1995-11-16|                 6.6|[{'name': 'United...|\n",
      "| 9087|tt0112346|The American Pres...|62000000|           107879496|          1995-11-17|                 6.5|[{'name': 'Columb...|\n",
      "|12110|tt0112896|Dracula: Dead and...|       0|                   0|          1995-12-22|                 5.7|[{'name': 'Columb...|\n",
      "|21032|tt0112453|               Balto|       0|            11348324|          1995-12-22|                 7.1|[{'name': 'Univer...|\n",
      "|10858|tt0113987|               Nixon|44000000|            13681765|          1995-12-22|                 7.1|[{'name': 'Hollyw...|\n",
      "| 1408|tt0112760|    Cutthroat Island|98000000|            10017322|          1995-12-22|                 5.7|[{'name': 'Le Stu...|\n",
      "|  524|tt0112641|              Casino|52000000|           116112375|          1995-11-22|                 7.8|[{'name': 'Univer...|\n",
      "| 4584|tt0114388|Sense and Sensibi...|16500000|           135000000|          1995-12-13|                 7.2|[{'name': 'Columb...|\n",
      "|    5|tt0113101|          Four Rooms| 4000000|             4300000|          1995-12-09|                 6.5|[{'name': 'Mirama...|\n",
      "| 9273|tt0112281|Ace Ventura: When...|30000000|           212385533|          1995-11-10|                 6.1|[{'name': 'O Ente...|\n",
      "|11517|tt0113845|         Money Train|60000000|            35431113|          1995-11-21|                 5.4|[{'name': 'Columb...|\n",
      "+-----+---------+--------------------+--------+--------------------+--------------------+--------------------+--------------------+\n",
      "only showing top 20 rows\n",
      "\n"
     ]
    }
   ],
   "source": [
    "budget_revenue_view=metadata_df.select(\"id\",\"imdb_id\",\"original_title\",\"budget\",\"revenue\",\"release_date\", \"vote_average\", \"production_companies\")\n",
    "budget_revenue_view.show()"
   ]
  },
  {
   "cell_type": "code",
   "execution_count": 12,
   "id": "058f37eb-815d-4117-bd20-555129b615da",
   "metadata": {},
   "outputs": [
    {
     "data": {
      "text/plain": [
       "45572"
      ]
     },
     "execution_count": 12,
     "metadata": {},
     "output_type": "execute_result"
    }
   ],
   "source": [
    "budget_revenue_view.count()"
   ]
  },
  {
   "cell_type": "markdown",
   "id": "d6611efd-8ba8-4539-b5d7-e81a8c9ea912",
   "metadata": {},
   "source": [
    "##### Here is a list of records that are being discarded due to their invalid fields 'id', 'imdb_id', 'revenue', 'budget'\n",
    "##### Here a regex is used to intercept invalid imdb_id records"
   ]
  },
  {
   "cell_type": "code",
   "execution_count": 13,
   "id": "6b4ca8fa-7f63-4c4f-9cbc-fd15f56eaf85",
   "metadata": {},
   "outputs": [
    {
     "name": "stdout",
     "output_type": "stream",
     "text": [
      "+--------------------+--------------------+--------------------+--------------------+--------------------+--------------------+--------------------+--------------------+\n",
      "|                  id|             imdb_id|      original_title|              budget|             revenue|        release_date|        vote_average|production_companies|\n",
      "+--------------------+--------------------+--------------------+--------------------+--------------------+--------------------+--------------------+--------------------+\n",
      "|          1995-01-01|                   0|                  []|/uUi23HjvDFYGfuVl...|                null|                   0|                null|               False|\n",
      "|                  []|[{'iso_3166_1': '...|                   0| 2- A Soft Touch ...|                 6.4|               False|                null|                null|\n",
      "|[{'id': 18, 'name...|http://www.wkw-in...|           tt0118694| 'poster_path': '...|[{'iso_3166_1': '...|[{'name': 'Block ...|In the Mood for Love|            8.703552|\n",
      "|[{'id': 12, 'name...|http://www.billan...|           tt0096928| 'poster_path': '...| what Bill and Te...| they will be sep...|          1989-02-17| they are still i...|\n",
      "|/pEzCLGxq4bXafTOR...|[{'name': 'New Wo...|          1989-06-01| and Kassandra (L...|               False|             Warlock|                null|            Released|\n",
      "|[{'id': 53, 'name...|http://www.warner...|           tt0240772| 'poster_path': '...|[{'iso_3166_1': '...|[{'name': 'Villag...|      Ocean's Eleven|           12.114932|\n",
      "|/yB9bESCHpp2iHUGu...|[{'name': 'Twenti...|          2002-01-25| Oedekerk sets of...|               False|Kung Pow: Enter t...|                null|            Released|\n",
      "|[{'name': 'Knight...|[{'iso_3166_1': '...|                   0| Alec Guinness ca...|                 7.3|               False|                null|                null|\n",
      "|[{'name': 'Sandy ...|[{'iso_3166_1': '...|                   0| decides to take ...|                 5.8|               False|                null|The boys and girl...|\n",
      "|                   0|[{'id': 12, 'name...|               12716| Childhood's Memo...|[{'name': 'Gaumon...|/iUQaKj9iVe0NpgHh...|                null|French adaptation...|\n",
      "|                   0|[{'id': 12, 'name...|               12717| Childhood's Memo...|[{'name': 'Gaumon...|/e9KvKWPY2YQzpqFD...|                null|My Mother's Castl...|\n",
      "|[{'iso_3166_1': '...|          1966-05-10|               121.0|            0.661107|                   8|                 5.7|                null|     The War Is Over|\n",
      "|[{'id': 53, 'name...|http://oceans12.w...|           tt0349903| 'poster_path': '...|[{'iso_3166_1': '...|[{'name': 'Villag...|      Ocean's Twelve|           11.869347|\n",
      "|          1944-04-13|                   0|[{'iso_639_1': 'e...|/tR3PnmXh8UrSdCPI...|                null|                   1|                null|               False|\n",
      "|[{'iso_3166_1': '...|          1979-03-14|               121.0|            5.259089|                 146|                 7.3|                null|                Hair|\n",
      "|[{'id': 80, 'name...|http://www.kino.c...|           tt0101258| 'poster_path': '...|[{'iso_3166_1': '...|[{'name': 'Media ...|  Days of Being Wild|            6.242263|\n",
      "|[{'id': 14, 'name...|http://www.wkw204...|           tt0212712| 'poster_path': '...|[{'iso_3166_1': '...|[{'name': 'Paradi...|                2046|            7.157169|\n",
      "|     Catholic school| Ralph is conside...| winning the Bost...| who is secretly ...|[{'name': 'Allian...|/xGiaXH17qJyk5cy2...|He's hoping for a...| fending off nays...|\n",
      "|[{'id': 80, 'name...|http://lichter-de...|           tt0458242| 'poster_path': '...|[{'iso_3166_1': '...|[{'name': 'Sputni...|  Lights in the Dusk|            2.329388|\n",
      "|/96nGo7zLEuCuakmO...|                  []|          2005-10-21| she meets the yo...|               False|Beauty and the Ba...|                null|            Released|\n",
      "+--------------------+--------------------+--------------------+--------------------+--------------------+--------------------+--------------------+--------------------+\n",
      "only showing top 20 rows\n",
      "\n"
     ]
    }
   ],
   "source": [
    "budget_revenue_view.where(F.regexp_extract(F.col(\"imdb_id\"),r'tt[0-9]{7}',0)==\"\").show()"
   ]
  },
  {
   "cell_type": "markdown",
   "id": "f6700252-4e31-44ac-9459-5bfdb163408b",
   "metadata": {},
   "source": [
    "##### Removing records with invalid 'id' and 'imdb_id'"
   ]
  },
  {
   "cell_type": "code",
   "execution_count": 14,
   "id": "95245eef-f86b-4fe6-8367-1f141554e7eb",
   "metadata": {},
   "outputs": [
    {
     "name": "stdout",
     "output_type": "stream",
     "text": [
      "+-----+---------+--------------------+--------+--------------------+--------------------+--------------------+--------------------+\n",
      "|   id|  imdb_id|      original_title|  budget|             revenue|        release_date|        vote_average|production_companies|\n",
      "+-----+---------+--------------------+--------+--------------------+--------------------+--------------------+--------------------+\n",
      "|  862|tt0114709|           Toy Story|30000000|           373554033|          1995-10-30|                 7.7|[{'name': 'Pixar ...|\n",
      "| 8844|tt0113497|             Jumanji|65000000|           262797249|          1995-12-15|                 6.9|[{'name': 'TriSta...|\n",
      "|15602|tt0113228|    Grumpier Old Men|       0|                   0|          1995-12-22|                 6.5|[{'name': 'Warner...|\n",
      "|31357|tt0114885|   Waiting to Exhale|16000000|[{'name': 'Twenti...|/16XOMpEaLWkrcPqS...|Friends are the p...| determined to fi...|\n",
      "|11862|tt0113041|Father of the Bri...|       0|            76578911|          1995-02-10|                 5.7|[{'name': 'Sandol...|\n",
      "|  949|tt0113277|                Heat|60000000|           187436818|          1995-12-15|                 7.7|[{'name': 'Regenc...|\n",
      "|11860|tt0114319|             Sabrina|58000000|                   0|          1995-12-15|                 6.2|[{'name': 'Paramo...|\n",
      "|45325|tt0112302|        Tom and Huck|       0|                   0|          1995-12-22|                 5.4|[{'name': 'Walt D...|\n",
      "| 9091|tt0114576|        Sudden Death|35000000|            64350171|          1995-12-22|                 5.5|[{'name': 'Univer...|\n",
      "|  710|tt0113189|           GoldenEye|58000000|           352194034|          1995-11-16|                 6.6|[{'name': 'United...|\n",
      "| 9087|tt0112346|The American Pres...|62000000|           107879496|          1995-11-17|                 6.5|[{'name': 'Columb...|\n",
      "|12110|tt0112896|Dracula: Dead and...|       0|                   0|          1995-12-22|                 5.7|[{'name': 'Columb...|\n",
      "|21032|tt0112453|               Balto|       0|            11348324|          1995-12-22|                 7.1|[{'name': 'Univer...|\n",
      "|10858|tt0113987|               Nixon|44000000|            13681765|          1995-12-22|                 7.1|[{'name': 'Hollyw...|\n",
      "| 1408|tt0112760|    Cutthroat Island|98000000|            10017322|          1995-12-22|                 5.7|[{'name': 'Le Stu...|\n",
      "|  524|tt0112641|              Casino|52000000|           116112375|          1995-11-22|                 7.8|[{'name': 'Univer...|\n",
      "| 4584|tt0114388|Sense and Sensibi...|16500000|           135000000|          1995-12-13|                 7.2|[{'name': 'Columb...|\n",
      "|    5|tt0113101|          Four Rooms| 4000000|             4300000|          1995-12-09|                 6.5|[{'name': 'Mirama...|\n",
      "| 9273|tt0112281|Ace Ventura: When...|30000000|           212385533|          1995-11-10|                 6.1|[{'name': 'O Ente...|\n",
      "|11517|tt0113845|         Money Train|60000000|            35431113|          1995-11-21|                 5.4|[{'name': 'Columb...|\n",
      "+-----+---------+--------------------+--------+--------------------+--------------------+--------------------+--------------------+\n",
      "only showing top 20 rows\n",
      "\n"
     ]
    }
   ],
   "source": [
    "clean_IDs=budget_revenue_view.where(F.regexp_extract(F.col(\"imdb_id\"),r'tt[0-9]{7}',0)!=\"\").withColumn(\"id\", F.col(\"id\").cast(IntegerType())).where(F.col(\"id\").isNotNull())\n",
    "clean_IDs.show()"
   ]
  },
  {
   "cell_type": "markdown",
   "id": "31d15583-99ae-4b7d-88ed-ec9b1b718170",
   "metadata": {},
   "source": [
    "##### Casting columns to our desired dataType: all invalid values are being replaced by 'null' and invalid values of revenue or budget are copied to the new field 'note'\n",
    "##### the field 'note' is used to flag any potential data type mismatch that can lead to wrong ratio computation or errors\n",
    "##### the field 'year' is generated from field 'release_date', that is previously casted to dateType\n",
    "##### field 'vote_average' has been renamed 'rating'"
   ]
  },
  {
   "cell_type": "code",
   "execution_count": 15,
   "id": "22de8c8d-2846-46db-8089-b85193b4f16d",
   "metadata": {},
   "outputs": [
    {
     "name": "stdout",
     "output_type": "stream",
     "text": [
      "+-----+---------+--------------------+--------+---------+------+--------------------+--------------------+----+\n",
      "|   id|  imdb_id|      original_title|  budget|  revenue|rating|production_companies|                note|year|\n",
      "+-----+---------+--------------------+--------+---------+------+--------------------+--------------------+----+\n",
      "|  862|tt0114709|           Toy Story|30000000|373554033|   7.7|[{'name': 'Pixar ...|                null|1995|\n",
      "| 8844|tt0113497|             Jumanji|65000000|262797249|   6.9|[{'name': 'TriSta...|                null|1995|\n",
      "|15602|tt0113228|    Grumpier Old Men|       0|        0|   6.5|[{'name': 'Warner...|Budget and/or rev...|1995|\n",
      "|31357|tt0114885|   Waiting to Exhale|16000000|     null|  null| determined to fi...|[{'name': 'Twenti...|null|\n",
      "|11862|tt0113041|Father of the Bri...|       0| 76578911|   5.7|[{'name': 'Sandol...|Budget and/or rev...|1995|\n",
      "|  949|tt0113277|                Heat|60000000|187436818|   7.7|[{'name': 'Regenc...|                null|1995|\n",
      "|11860|tt0114319|             Sabrina|58000000|        0|   6.2|[{'name': 'Paramo...|Budget and/or rev...|1995|\n",
      "|45325|tt0112302|        Tom and Huck|       0|        0|   5.4|[{'name': 'Walt D...|Budget and/or rev...|1995|\n",
      "| 9091|tt0114576|        Sudden Death|35000000| 64350171|   5.5|[{'name': 'Univer...|                null|1995|\n",
      "|  710|tt0113189|           GoldenEye|58000000|352194034|   6.6|[{'name': 'United...|                null|1995|\n",
      "| 9087|tt0112346|The American Pres...|62000000|107879496|   6.5|[{'name': 'Columb...|                null|1995|\n",
      "|12110|tt0112896|Dracula: Dead and...|       0|        0|   5.7|[{'name': 'Columb...|Budget and/or rev...|1995|\n",
      "|21032|tt0112453|               Balto|       0| 11348324|   7.1|[{'name': 'Univer...|Budget and/or rev...|1995|\n",
      "|10858|tt0113987|               Nixon|44000000| 13681765|   7.1|[{'name': 'Hollyw...|                null|1995|\n",
      "| 1408|tt0112760|    Cutthroat Island|98000000| 10017322|   5.7|[{'name': 'Le Stu...|                null|1995|\n",
      "|  524|tt0112641|              Casino|52000000|116112375|   7.8|[{'name': 'Univer...|                null|1995|\n",
      "| 4584|tt0114388|Sense and Sensibi...|16500000|135000000|   7.2|[{'name': 'Columb...|                null|1995|\n",
      "|    5|tt0113101|          Four Rooms| 4000000|  4300000|   6.5|[{'name': 'Mirama...|                null|1995|\n",
      "| 9273|tt0112281|Ace Ventura: When...|30000000|212385533|   6.1|[{'name': 'O Ente...|                null|1995|\n",
      "|11517|tt0113845|         Money Train|60000000| 35431113|   5.4|[{'name': 'Columb...|                null|1995|\n",
      "+-----+---------+--------------------+--------+---------+------+--------------------+--------------------+----+\n",
      "only showing top 20 rows\n",
      "\n"
     ]
    }
   ],
   "source": [
    "budget_revenue_view_cast=clean_IDs.withColumn(\"note\",F.when(budget_revenue_view.revenue.cast(IntegerType()).isNotNull()==False,budget_revenue_view.revenue).otherwise(F.lit(None))) \\\n",
    "                                    .withColumn(\"note\",F.when(budget_revenue_view.budget.cast(IntegerType()).isNotNull()==False,budget_revenue_view.budget).otherwise(F.col(\"note\"))) \\\n",
    "                                    .withColumn(\"budget\",budget_revenue_view.budget.cast(IntegerType())) \\\n",
    "                                    .withColumn(\"revenue\",budget_revenue_view.revenue.cast(IntegerType())) \\\n",
    "                                    .withColumn(\"note\",F.when((F.col(\"revenue\")==0),\"Budget and/or revenue data missing\").otherwise(F.col(\"note\"))) \\\n",
    "                                    .withColumn(\"note\",F.when((F.col(\"budget\")==0),\"Budget and/or revenue data missing\").otherwise(F.col(\"note\"))) \\\n",
    "                                    .withColumn(\"release_date\",budget_revenue_view.release_date.cast(DateType())) \\\n",
    "                                    .withColumn(\"year\",(F.year(\"release_date\"))) \\\n",
    "                                    .withColumn(\"vote_average\",budget_revenue_view.vote_average.cast(DoubleType())) \\\n",
    "                                    .withColumnRenamed(\"vote_average\",\"rating\") \\\n",
    "                                    .drop(\"release_date\")\n",
    "budget_revenue_view_cast.show()"
   ]
  },
  {
   "cell_type": "markdown",
   "id": "08147d30-624a-4574-b8e9-a5bffc9b2fbd",
   "metadata": {},
   "source": [
    "##### Computing revenue/budget ratio"
   ]
  },
  {
   "cell_type": "code",
   "execution_count": 16,
   "id": "a5ade67a-2f4a-4eda-b127-84f7d7dfe7e5",
   "metadata": {},
   "outputs": [
    {
     "name": "stdout",
     "output_type": "stream",
     "text": [
      "+-----+---------+--------------------+--------+---------+------+--------------------+--------------------+----+-----+\n",
      "|   id|  imdb_id|      original_title|  budget|  revenue|rating|production_companies|                note|year|ratio|\n",
      "+-----+---------+--------------------+--------+---------+------+--------------------+--------------------+----+-----+\n",
      "|  862|tt0114709|           Toy Story|30000000|373554033|   7.7|[{'name': 'Pixar ...|                null|1995|12.45|\n",
      "| 8844|tt0113497|             Jumanji|65000000|262797249|   6.9|[{'name': 'TriSta...|                null|1995| 4.04|\n",
      "|15602|tt0113228|    Grumpier Old Men|       0|        0|   6.5|[{'name': 'Warner...|Budget and/or rev...|1995|  0.0|\n",
      "|31357|tt0114885|   Waiting to Exhale|16000000|     null|  null| determined to fi...|[{'name': 'Twenti...|null|  0.0|\n",
      "|11862|tt0113041|Father of the Bri...|       0| 76578911|   5.7|[{'name': 'Sandol...|Budget and/or rev...|1995|  0.0|\n",
      "|  949|tt0113277|                Heat|60000000|187436818|   7.7|[{'name': 'Regenc...|                null|1995| 3.12|\n",
      "|11860|tt0114319|             Sabrina|58000000|        0|   6.2|[{'name': 'Paramo...|Budget and/or rev...|1995|  0.0|\n",
      "|45325|tt0112302|        Tom and Huck|       0|        0|   5.4|[{'name': 'Walt D...|Budget and/or rev...|1995|  0.0|\n",
      "| 9091|tt0114576|        Sudden Death|35000000| 64350171|   5.5|[{'name': 'Univer...|                null|1995| 1.84|\n",
      "|  710|tt0113189|           GoldenEye|58000000|352194034|   6.6|[{'name': 'United...|                null|1995| 6.07|\n",
      "| 9087|tt0112346|The American Pres...|62000000|107879496|   6.5|[{'name': 'Columb...|                null|1995| 1.74|\n",
      "|12110|tt0112896|Dracula: Dead and...|       0|        0|   5.7|[{'name': 'Columb...|Budget and/or rev...|1995|  0.0|\n",
      "|21032|tt0112453|               Balto|       0| 11348324|   7.1|[{'name': 'Univer...|Budget and/or rev...|1995|  0.0|\n",
      "|10858|tt0113987|               Nixon|44000000| 13681765|   7.1|[{'name': 'Hollyw...|                null|1995| 0.31|\n",
      "| 1408|tt0112760|    Cutthroat Island|98000000| 10017322|   5.7|[{'name': 'Le Stu...|                null|1995|  0.1|\n",
      "|  524|tt0112641|              Casino|52000000|116112375|   7.8|[{'name': 'Univer...|                null|1995| 2.23|\n",
      "| 4584|tt0114388|Sense and Sensibi...|16500000|135000000|   7.2|[{'name': 'Columb...|                null|1995| 8.18|\n",
      "|    5|tt0113101|          Four Rooms| 4000000|  4300000|   6.5|[{'name': 'Mirama...|                null|1995| 1.07|\n",
      "| 9273|tt0112281|Ace Ventura: When...|30000000|212385533|   6.1|[{'name': 'O Ente...|                null|1995| 7.08|\n",
      "|11517|tt0113845|         Money Train|60000000| 35431113|   5.4|[{'name': 'Columb...|                null|1995| 0.59|\n",
      "+-----+---------+--------------------+--------+---------+------+--------------------+--------------------+----+-----+\n",
      "only showing top 20 rows\n",
      "\n"
     ]
    }
   ],
   "source": [
    "budget_revenue_ratio=budget_revenue_view_cast.withColumn(\"ratio\",F.when(budget_revenue_view_cast.note.isNull(),F.format_number(budget_revenue_view_cast.revenue/budget_revenue_view_cast.budget,2)).otherwise(F.lit(0)).cast(DoubleType()))\n",
    "budget_revenue_ratio.show()"
   ]
  },
  {
   "cell_type": "code",
   "execution_count": 17,
   "id": "5401e5b1-8e27-431b-9455-c7e6de516b70",
   "metadata": {},
   "outputs": [
    {
     "data": {
      "text/plain": [
       "45339"
      ]
     },
     "execution_count": 17,
     "metadata": {},
     "output_type": "execute_result"
    }
   ],
   "source": [
    "budget_revenue_ratio.count()"
   ]
  },
  {
   "cell_type": "markdown",
   "id": "b92f3ba0-1fcd-4c47-b692-f33487062425",
   "metadata": {},
   "source": [
    "##### Ordering records by ratio, descending order. Top100 films"
   ]
  },
  {
   "cell_type": "code",
   "execution_count": 18,
   "id": "165048ae-dbbf-40a7-a0e7-4eb7219c4af4",
   "metadata": {},
   "outputs": [],
   "source": [
    "# Select top100 movies by ratio\n",
    "top100_by_ratio=budget_revenue_ratio.orderBy(\"ratio\", ascending=False) \\\n",
    ".withColumn(\"clean_title\", F.lower(F.col(\"original_title\"))) \\\n",
    ".limit(100)"
   ]
  },
  {
   "cell_type": "markdown",
   "id": "62370504-f604-41bc-a520-a61ed3b4b773",
   "metadata": {},
   "source": [
    "### Read data from Wikipedia dump"
   ]
  },
  {
   "cell_type": "code",
   "execution_count": 39,
   "id": "cc56289c-c6c6-46c9-b209-f14370f91572",
   "metadata": {},
   "outputs": [
    {
     "data": {
      "text/plain": [
       "0"
      ]
     },
     "execution_count": 39,
     "metadata": {},
     "output_type": "execute_result"
    }
   ],
   "source": [
    "from_wikipedia_df = spark.read.format(\"com.databricks.spark.xml\").option(\"rootTag\", \"feed\").option(\"rowTag\", \"doc\").load(WIKIPEDIA_DUMP_XML_PATH, schema=WIKIPEDIA_DUMP_XML_SCHEMA)\n",
    "from_wikipedia_df.count()"
   ]
  },
  {
   "cell_type": "markdown",
   "id": "fca468e4-a963-4e5e-ab09-3f22d8935d3c",
   "metadata": {},
   "source": [
    "##### Cleaning film titles to prepare for join step\n",
    "##### Since 'imdb_id' and 'id' fields are not available from the Wikipedia dump, 'title' will be used as primary key for join"
   ]
  },
  {
   "cell_type": "code",
   "execution_count": 20,
   "id": "4537840b-0f2e-4349-ab79-ade0007d690d",
   "metadata": {},
   "outputs": [
    {
     "name": "stdout",
     "output_type": "stream",
     "text": [
      "+-----------+---+--------+\n",
      "|clean_title|url|abstract|\n",
      "+-----------+---+--------+\n",
      "+-----------+---+--------+\n",
      "\n"
     ]
    }
   ],
   "source": [
    "clean_from_wikipedia_df=from_wikipedia_df.select(\"title\", \"url\", \"abstract\") \\\n",
    "                                         .withColumn(\"extracted_title\", F.regexp_extract(F.col(\"title\"),r'Wikipedia: (.*)',1)) \\\n",
    "                                         .withColumn(\"clean_title\", F.lower(F.col(\"extracted_title\"))) \\\n",
    "                                         .select(\"clean_title\", \"url\", \"abstract\")\n",
    "clean_from_wikipedia_df.show()"
   ]
  },
  {
   "cell_type": "markdown",
   "id": "3d88f238-e366-46d7-9330-fadaa11ce6e4",
   "metadata": {},
   "source": [
    "### Enrich IMDB data"
   ]
  },
  {
   "cell_type": "code",
   "execution_count": 21,
   "id": "1a0645ef-6f43-48ce-b383-cf2ac23d418e",
   "metadata": {},
   "outputs": [
    {
     "name": "stdout",
     "output_type": "stream",
     "text": [
      "+--------------------+------+---------+--------------------+-------+---------+------+--------------------+----+----+------+----+--------+\n",
      "|         clean_title|    id|  imdb_id|      original_title| budget|  revenue|rating|production_companies|note|year| ratio| url|abstract|\n",
      "+--------------------+------+---------+--------------------+-------+---------+------+--------------------+----+----+------+----+--------+\n",
      "|        house of wax| 18573|tt0045888|        House of Wax| 658000| 23800000|   7.0|[{'name': 'Bryan ...|null|1953| 36.17|null|    null|\n",
      "|    enter the dragon|  9461|tt0070034|    Enter the Dragon| 850000| 90000000|   7.3|[{'name': 'Golden...|null|1973|105.88|null|    null|\n",
      "|one flew over the...|   510|tt0073486|One Flew Over the...|3000000|108981275|   8.3|[{'name': 'United...|null|1975| 36.33|null|    null|\n",
      "|                  pi|   473|tt0138704|                  Pi|  60000|  3221152|   7.1|[{'name': 'Truth ...|null|1998| 53.69|null|    null|\n",
      "|the birth of a na...|   618|tt0004972|The Birth of a Na...| 100000| 11000000|   6.4|[{'name': 'Epoch ...|null|1915| 110.0|null|    null|\n",
      "|           fireproof| 14438|tt1129423|           Fireproof| 500000| 33456317|   7.0|[{'name': 'Carmel...|null|2008| 66.91|null|    null|\n",
      "|        lost & found| 39964|tt0120836|        Lost & Found|      1|      100|   4.9|[{'name': 'Alcon ...|null|1999| 100.0|null|    null|\n",
      "|  the sound of music| 15121|tt0059742|  The Sound of Music|8200000|286214286|   7.4|[{'name': 'Twenti...|null|1965|  34.9|null|    null|\n",
      "|      人再囧途之泰囧|151743|tt2459022|      人再囧途之泰囧|2200000|208000000|   6.1|[{'name': 'Enligh...|null|2012| 94.55|null|    null|\n",
      "| the hills have eyes| 12262|tt0077681| The Hills Have Eyes| 230000| 25000000|   6.1|[{'name': 'Blood ...|null|1977| 108.7|null|    null|\n",
      "|the legend of bog...|  1842|tt0068837|The Legend of Bog...| 100000| 22000000|   5.6|[{'name': 'P & L'...|null|1972| 220.0|null|    null|\n",
      "|          goldfinger|   658|tt0058150|          Goldfinger|2500000|124881062|   7.2|[{'name': 'United...|null|1964| 49.95|null|    null|\n",
      "|       super size me|  9372|tt0390521|       Super Size Me|  65000| 28575078|   6.6|[{'name': 'Kathbu...|null|2004|439.62|null|    null|\n",
      "|            ghoulies| 18498|tt0089200|            Ghoulies|1000000| 35000000|   4.2|[{'name': 'Empire...|null|1984|  35.0|null|    null|\n",
      "|das leben der and...|   582|tt0405094|Das Leben der And...|2000000| 70000000|   7.9|[{'name': 'Arte',...|null|2006|  35.0|null|    null|\n",
      "|              dr. no|   646|tt0055928|              Dr. No| 950000| 59600000|   6.9|[{'name': 'United...|null|1962| 62.74|null|    null|\n",
      "|              vixen!|  5721|tt0063787|              Vixen!|  76000|  6000000|   5.5|[{'name': 'Eve Pr...|null|1968| 78.95|null|    null|\n",
      "|       dirty dancing|    88|tt0092890|       Dirty Dancing|6000000|213954274|   7.1|[{'name': 'Great ...|null|1987| 35.66|null|    null|\n",
      "|   facing the giants| 18925|tt0805526|   Facing the Giants| 100000| 10178331|   6.6|[{'name': 'Destin...|null|2006|101.78|null|    null|\n",
      "|          love story|  9062|tt0066011|          Love Story|2200000|136400000|   6.6|[{'name': 'Paramo...|null|1970|  62.0|null|    null|\n",
      "+--------------------+------+---------+--------------------+-------+---------+------+--------------------+----+----+------+----+--------+\n",
      "only showing top 20 rows\n",
      "\n"
     ]
    }
   ],
   "source": [
    "top100_enriched=top100_by_ratio.join(clean_from_wikipedia_df, 'clean_title',\"left\")\n",
    "top100_enriched.show()"
   ]
  },
  {
   "cell_type": "markdown",
   "id": "3f63f833-d308-4e43-a7ed-e8c85e021c31",
   "metadata": {},
   "source": [
    "### Save enriched data [optional]"
   ]
  },
  {
   "cell_type": "code",
   "execution_count": 22,
   "id": "63dafb84-4d3d-4854-bb69-ab242af8d4e4",
   "metadata": {},
   "outputs": [],
   "source": [
    "top100_enriched.drop(\"clean_title\", \"id\", \"imdb_id\", \"release_date\", \"note\") \\\n",
    ".write \\\n",
    ".mode(\"overwrite\") \\\n",
    ".parquet(TOP100_PARQUET_PATH)"
   ]
  },
  {
   "cell_type": "code",
   "execution_count": 23,
   "id": "424b4eeb-e0fc-4798-b870-f5987c4ad189",
   "metadata": {},
   "outputs": [],
   "source": [
    "top100_enriched.drop(\"clean_title\", \"id\", \"imdb_id\", \"release_date\", \"note\") \\\n",
    ".write \\\n",
    ".options(header='True', delimiter='|') \\\n",
    ".mode(\"overwrite\") \\\n",
    ".csv(TOP100_CSV_PATH)"
   ]
  },
  {
   "attachments": {},
   "cell_type": "markdown",
   "id": "930415df",
   "metadata": {},
   "source": [
    "##### Create database 'movies'"
   ]
  },
  {
   "cell_type": "code",
   "execution_count": null,
   "id": "ed7f738c",
   "metadata": {},
   "outputs": [],
   "source": [
    "conn = psycopg2.connect(\n",
    "    user=POSTGRES_USER,\n",
    "    password=POSTGRES_PWD,\n",
    "    host=POSTGRES_HOST,\n",
    "    port= POSTGRES_PORT\n",
    ")"
   ]
  },
  {
   "cell_type": "code",
   "execution_count": null,
   "id": "04c4d357",
   "metadata": {},
   "outputs": [],
   "source": [
    "conn.autocommit = True\n",
    "cursor = conn.cursor()\n",
    "cursor.execute(\"SELECT 'CREATE DATABASE {db}' WHERE NOT EXISTS (SELECT FROM pg_database WHERE datname = ' {db}')\".format(db=POSTGRES_DB))\n",
    "print(\"Database has been created\");\n",
    "conn.close()"
   ]
  },
  {
   "cell_type": "markdown",
   "id": "6548ffa8-ffc8-48b5-8586-c81a24689090",
   "metadata": {},
   "source": [
    "## Write enriched data to Postgres"
   ]
  },
  {
   "cell_type": "code",
   "execution_count": 16,
   "id": "fd91428f-2c29-4e49-800d-9ee8c7920f68",
   "metadata": {},
   "outputs": [],
   "source": [
    "top100byratio_wiki_df=spark.read.parquet(TOP100_PARQUET_PATH, header=True)"
   ]
  },
  {
   "cell_type": "markdown",
   "id": "952a5371-a60d-4511-830f-709ad297dc59",
   "metadata": {},
   "source": [
    "##### Write parquet data to Postgres"
   ]
  },
  {
   "cell_type": "code",
   "execution_count": 22,
   "id": "ddf7a29a-ef7c-4c49-997c-651d04e01c15",
   "metadata": {},
   "outputs": [
    {
     "ename": "Py4JJavaError",
     "evalue": "An error occurred while calling o58.jdbc.\n: org.postgresql.util.PSQLException: The connection attempt failed.\r\n\tat org.postgresql.core.v3.ConnectionFactoryImpl.openConnectionImpl(ConnectionFactoryImpl.java:331)\r\n\tat org.postgresql.core.ConnectionFactory.openConnection(ConnectionFactory.java:49)\r\n\tat org.postgresql.jdbc.PgConnection.<init>(PgConnection.java:247)\r\n\tat org.postgresql.Driver.makeConnection(Driver.java:434)\r\n\tat org.postgresql.Driver.connect(Driver.java:291)\r\n\tat org.apache.spark.sql.execution.datasources.jdbc.JdbcUtils$.$anonfun$createConnectionFactory$1(JdbcUtils.scala:64)\r\n\tat org.apache.spark.sql.execution.datasources.jdbc.JdbcRelationProvider.createRelation(JdbcRelationProvider.scala:48)\r\n\tat org.apache.spark.sql.execution.datasources.SaveIntoDataSourceCommand.run(SaveIntoDataSourceCommand.scala:46)\r\n\tat org.apache.spark.sql.execution.command.ExecutedCommandExec.sideEffectResult$lzycompute(commands.scala:70)\r\n\tat org.apache.spark.sql.execution.command.ExecutedCommandExec.sideEffectResult(commands.scala:68)\r\n\tat org.apache.spark.sql.execution.command.ExecutedCommandExec.doExecute(commands.scala:90)\r\n\tat org.apache.spark.sql.execution.SparkPlan.$anonfun$execute$1(SparkPlan.scala:175)\r\n\tat org.apache.spark.sql.execution.SparkPlan.$anonfun$executeQuery$1(SparkPlan.scala:213)\r\n\tat org.apache.spark.rdd.RDDOperationScope$.withScope(RDDOperationScope.scala:151)\r\n\tat org.apache.spark.sql.execution.SparkPlan.executeQuery(SparkPlan.scala:210)\r\n\tat org.apache.spark.sql.execution.SparkPlan.execute(SparkPlan.scala:171)\r\n\tat org.apache.spark.sql.execution.QueryExecution.toRdd$lzycompute(QueryExecution.scala:122)\r\n\tat org.apache.spark.sql.execution.QueryExecution.toRdd(QueryExecution.scala:121)\r\n\tat org.apache.spark.sql.DataFrameWriter.$anonfun$runCommand$1(DataFrameWriter.scala:963)\r\n\tat org.apache.spark.sql.execution.SQLExecution$.$anonfun$withNewExecutionId$5(SQLExecution.scala:100)\r\n\tat org.apache.spark.sql.execution.SQLExecution$.withSQLConfPropagated(SQLExecution.scala:160)\r\n\tat org.apache.spark.sql.execution.SQLExecution$.$anonfun$withNewExecutionId$1(SQLExecution.scala:87)\r\n\tat org.apache.spark.sql.SparkSession.withActive(SparkSession.scala:764)\r\n\tat org.apache.spark.sql.execution.SQLExecution$.withNewExecutionId(SQLExecution.scala:64)\r\n\tat org.apache.spark.sql.DataFrameWriter.runCommand(DataFrameWriter.scala:963)\r\n\tat org.apache.spark.sql.DataFrameWriter.saveToV1Source(DataFrameWriter.scala:415)\r\n\tat org.apache.spark.sql.DataFrameWriter.save(DataFrameWriter.scala:399)\r\n\tat org.apache.spark.sql.DataFrameWriter.jdbc(DataFrameWriter.scala:791)\r\n\tat sun.reflect.NativeMethodAccessorImpl.invoke0(Native Method)\r\n\tat sun.reflect.NativeMethodAccessorImpl.invoke(NativeMethodAccessorImpl.java:62)\r\n\tat sun.reflect.DelegatingMethodAccessorImpl.invoke(DelegatingMethodAccessorImpl.java:43)\r\n\tat java.lang.reflect.Method.invoke(Method.java:498)\r\n\tat py4j.reflection.MethodInvoker.invoke(MethodInvoker.java:244)\r\n\tat py4j.reflection.ReflectionEngine.invoke(ReflectionEngine.java:357)\r\n\tat py4j.Gateway.invoke(Gateway.java:282)\r\n\tat py4j.commands.AbstractCommand.invokeMethod(AbstractCommand.java:132)\r\n\tat py4j.commands.CallCommand.execute(CallCommand.java:79)\r\n\tat py4j.GatewayConnection.run(GatewayConnection.java:238)\r\n\tat java.lang.Thread.run(Thread.java:748)\r\nCaused by: java.net.UnknownHostException: postgres-db\r\n\tat java.net.AbstractPlainSocketImpl.connect(AbstractPlainSocketImpl.java:196)\r\n\tat java.net.PlainSocketImpl.connect(PlainSocketImpl.java:162)\r\n\tat java.net.SocksSocketImpl.connect(SocksSocketImpl.java:394)\r\n\tat java.net.Socket.connect(Socket.java:606)\r\n\tat org.postgresql.core.PGStream.createSocket(PGStream.java:241)\r\n\tat org.postgresql.core.PGStream.<init>(PGStream.java:98)\r\n\tat org.postgresql.core.v3.ConnectionFactoryImpl.tryConnect(ConnectionFactoryImpl.java:109)\r\n\tat org.postgresql.core.v3.ConnectionFactoryImpl.openConnectionImpl(ConnectionFactoryImpl.java:235)\r\n\t... 38 more\r\n",
     "output_type": "error",
     "traceback": [
      "\u001b[1;31m---------------------------------------------------------------------------\u001b[0m",
      "\u001b[1;31mPy4JJavaError\u001b[0m                             Traceback (most recent call last)",
      "Input \u001b[1;32mIn [22]\u001b[0m, in \u001b[0;36m<cell line: 1>\u001b[1;34m()\u001b[0m\n\u001b[1;32m----> 1\u001b[0m \u001b[43mtop100byratio_wiki_df\u001b[49m\u001b[38;5;241;43m.\u001b[39;49m\u001b[43mwrite\u001b[49m\u001b[43m \u001b[49m\u001b[43m\\\u001b[49m\n\u001b[0;32m      2\u001b[0m \u001b[43m                     \u001b[49m\u001b[38;5;241;43m.\u001b[39;49m\u001b[43mmode\u001b[49m\u001b[43m(\u001b[49m\u001b[38;5;124;43m'\u001b[39;49m\u001b[38;5;124;43moverwrite\u001b[39;49m\u001b[38;5;124;43m'\u001b[39;49m\u001b[43m)\u001b[49m\u001b[43m \u001b[49m\u001b[43m\\\u001b[49m\n\u001b[0;32m      3\u001b[0m \u001b[43m                     \u001b[49m\u001b[38;5;241;43m.\u001b[39;49m\u001b[43mjdbc\u001b[49m\u001b[43m(\u001b[49m\n\u001b[0;32m      4\u001b[0m \u001b[43m                        \u001b[49m\u001b[43murl\u001b[49m\u001b[38;5;241;43m=\u001b[39;49m\u001b[43mpostgres_connection_properties\u001b[49m\u001b[43m[\u001b[49m\u001b[38;5;124;43m\"\u001b[39;49m\u001b[38;5;124;43murl\u001b[39;49m\u001b[38;5;124;43m\"\u001b[39;49m\u001b[43m]\u001b[49m\u001b[43m,\u001b[49m\n\u001b[0;32m      5\u001b[0m \u001b[43m                        \u001b[49m\u001b[43mtable\u001b[49m\u001b[38;5;241;43m=\u001b[39;49m\u001b[43mpostgres_connection_properties\u001b[49m\u001b[43m[\u001b[49m\u001b[38;5;124;43m\"\u001b[39;49m\u001b[38;5;124;43mtable\u001b[39;49m\u001b[38;5;124;43m\"\u001b[39;49m\u001b[43m]\u001b[49m\u001b[43m,\u001b[49m\n\u001b[0;32m      6\u001b[0m \u001b[43m                        \u001b[49m\u001b[43mproperties\u001b[49m\u001b[38;5;241;43m=\u001b[39;49m\u001b[43mpostgres_connection_properties\u001b[49m\n\u001b[0;32m      7\u001b[0m \u001b[43m                         \u001b[49m\u001b[43m)\u001b[49m\n",
      "File \u001b[1;32m~\\Anaconda3\\envs\\full_py39\\lib\\site-packages\\pyspark\\sql\\readwriter.py:1082\u001b[0m, in \u001b[0;36mDataFrameWriter.jdbc\u001b[1;34m(self, url, table, mode, properties)\u001b[0m\n\u001b[0;32m   1080\u001b[0m \u001b[38;5;28;01mfor\u001b[39;00m k \u001b[38;5;129;01min\u001b[39;00m properties:\n\u001b[0;32m   1081\u001b[0m     jprop\u001b[38;5;241m.\u001b[39msetProperty(k, properties[k])\n\u001b[1;32m-> 1082\u001b[0m \u001b[38;5;28;43mself\u001b[39;49m\u001b[38;5;241;43m.\u001b[39;49m\u001b[43mmode\u001b[49m\u001b[43m(\u001b[49m\u001b[43mmode\u001b[49m\u001b[43m)\u001b[49m\u001b[38;5;241;43m.\u001b[39;49m\u001b[43m_jwrite\u001b[49m\u001b[38;5;241;43m.\u001b[39;49m\u001b[43mjdbc\u001b[49m\u001b[43m(\u001b[49m\u001b[43murl\u001b[49m\u001b[43m,\u001b[49m\u001b[43m \u001b[49m\u001b[43mtable\u001b[49m\u001b[43m,\u001b[49m\u001b[43m \u001b[49m\u001b[43mjprop\u001b[49m\u001b[43m)\u001b[49m\n",
      "File \u001b[1;32m~\\Anaconda3\\envs\\full_py39\\lib\\site-packages\\py4j\\java_gateway.py:1304\u001b[0m, in \u001b[0;36mJavaMember.__call__\u001b[1;34m(self, *args)\u001b[0m\n\u001b[0;32m   1298\u001b[0m command \u001b[38;5;241m=\u001b[39m proto\u001b[38;5;241m.\u001b[39mCALL_COMMAND_NAME \u001b[38;5;241m+\u001b[39m\\\n\u001b[0;32m   1299\u001b[0m     \u001b[38;5;28mself\u001b[39m\u001b[38;5;241m.\u001b[39mcommand_header \u001b[38;5;241m+\u001b[39m\\\n\u001b[0;32m   1300\u001b[0m     args_command \u001b[38;5;241m+\u001b[39m\\\n\u001b[0;32m   1301\u001b[0m     proto\u001b[38;5;241m.\u001b[39mEND_COMMAND_PART\n\u001b[0;32m   1303\u001b[0m answer \u001b[38;5;241m=\u001b[39m \u001b[38;5;28mself\u001b[39m\u001b[38;5;241m.\u001b[39mgateway_client\u001b[38;5;241m.\u001b[39msend_command(command)\n\u001b[1;32m-> 1304\u001b[0m return_value \u001b[38;5;241m=\u001b[39m \u001b[43mget_return_value\u001b[49m\u001b[43m(\u001b[49m\n\u001b[0;32m   1305\u001b[0m \u001b[43m    \u001b[49m\u001b[43manswer\u001b[49m\u001b[43m,\u001b[49m\u001b[43m \u001b[49m\u001b[38;5;28;43mself\u001b[39;49m\u001b[38;5;241;43m.\u001b[39;49m\u001b[43mgateway_client\u001b[49m\u001b[43m,\u001b[49m\u001b[43m \u001b[49m\u001b[38;5;28;43mself\u001b[39;49m\u001b[38;5;241;43m.\u001b[39;49m\u001b[43mtarget_id\u001b[49m\u001b[43m,\u001b[49m\u001b[43m \u001b[49m\u001b[38;5;28;43mself\u001b[39;49m\u001b[38;5;241;43m.\u001b[39;49m\u001b[43mname\u001b[49m\u001b[43m)\u001b[49m\n\u001b[0;32m   1307\u001b[0m \u001b[38;5;28;01mfor\u001b[39;00m temp_arg \u001b[38;5;129;01min\u001b[39;00m temp_args:\n\u001b[0;32m   1308\u001b[0m     temp_arg\u001b[38;5;241m.\u001b[39m_detach()\n",
      "File \u001b[1;32m~\\Anaconda3\\envs\\full_py39\\lib\\site-packages\\pyspark\\sql\\utils.py:128\u001b[0m, in \u001b[0;36mcapture_sql_exception.<locals>.deco\u001b[1;34m(*a, **kw)\u001b[0m\n\u001b[0;32m    126\u001b[0m \u001b[38;5;28;01mdef\u001b[39;00m \u001b[38;5;21mdeco\u001b[39m(\u001b[38;5;241m*\u001b[39ma, \u001b[38;5;241m*\u001b[39m\u001b[38;5;241m*\u001b[39mkw):\n\u001b[0;32m    127\u001b[0m     \u001b[38;5;28;01mtry\u001b[39;00m:\n\u001b[1;32m--> 128\u001b[0m         \u001b[38;5;28;01mreturn\u001b[39;00m f(\u001b[38;5;241m*\u001b[39ma, \u001b[38;5;241m*\u001b[39m\u001b[38;5;241m*\u001b[39mkw)\n\u001b[0;32m    129\u001b[0m     \u001b[38;5;28;01mexcept\u001b[39;00m py4j\u001b[38;5;241m.\u001b[39mprotocol\u001b[38;5;241m.\u001b[39mPy4JJavaError \u001b[38;5;28;01mas\u001b[39;00m e:\n\u001b[0;32m    130\u001b[0m         converted \u001b[38;5;241m=\u001b[39m convert_exception(e\u001b[38;5;241m.\u001b[39mjava_exception)\n",
      "File \u001b[1;32m~\\Anaconda3\\envs\\full_py39\\lib\\site-packages\\py4j\\protocol.py:326\u001b[0m, in \u001b[0;36mget_return_value\u001b[1;34m(answer, gateway_client, target_id, name)\u001b[0m\n\u001b[0;32m    324\u001b[0m value \u001b[38;5;241m=\u001b[39m OUTPUT_CONVERTER[\u001b[38;5;28mtype\u001b[39m](answer[\u001b[38;5;241m2\u001b[39m:], gateway_client)\n\u001b[0;32m    325\u001b[0m \u001b[38;5;28;01mif\u001b[39;00m answer[\u001b[38;5;241m1\u001b[39m] \u001b[38;5;241m==\u001b[39m REFERENCE_TYPE:\n\u001b[1;32m--> 326\u001b[0m     \u001b[38;5;28;01mraise\u001b[39;00m Py4JJavaError(\n\u001b[0;32m    327\u001b[0m         \u001b[38;5;124m\"\u001b[39m\u001b[38;5;124mAn error occurred while calling \u001b[39m\u001b[38;5;132;01m{0}\u001b[39;00m\u001b[38;5;132;01m{1}\u001b[39;00m\u001b[38;5;132;01m{2}\u001b[39;00m\u001b[38;5;124m.\u001b[39m\u001b[38;5;130;01m\\n\u001b[39;00m\u001b[38;5;124m\"\u001b[39m\u001b[38;5;241m.\u001b[39m\n\u001b[0;32m    328\u001b[0m         \u001b[38;5;28mformat\u001b[39m(target_id, \u001b[38;5;124m\"\u001b[39m\u001b[38;5;124m.\u001b[39m\u001b[38;5;124m\"\u001b[39m, name), value)\n\u001b[0;32m    329\u001b[0m \u001b[38;5;28;01melse\u001b[39;00m:\n\u001b[0;32m    330\u001b[0m     \u001b[38;5;28;01mraise\u001b[39;00m Py4JError(\n\u001b[0;32m    331\u001b[0m         \u001b[38;5;124m\"\u001b[39m\u001b[38;5;124mAn error occurred while calling \u001b[39m\u001b[38;5;132;01m{0}\u001b[39;00m\u001b[38;5;132;01m{1}\u001b[39;00m\u001b[38;5;132;01m{2}\u001b[39;00m\u001b[38;5;124m. Trace:\u001b[39m\u001b[38;5;130;01m\\n\u001b[39;00m\u001b[38;5;132;01m{3}\u001b[39;00m\u001b[38;5;130;01m\\n\u001b[39;00m\u001b[38;5;124m\"\u001b[39m\u001b[38;5;241m.\u001b[39m\n\u001b[0;32m    332\u001b[0m         \u001b[38;5;28mformat\u001b[39m(target_id, \u001b[38;5;124m\"\u001b[39m\u001b[38;5;124m.\u001b[39m\u001b[38;5;124m\"\u001b[39m, name, value))\n",
      "\u001b[1;31mPy4JJavaError\u001b[0m: An error occurred while calling o58.jdbc.\n: org.postgresql.util.PSQLException: The connection attempt failed.\r\n\tat org.postgresql.core.v3.ConnectionFactoryImpl.openConnectionImpl(ConnectionFactoryImpl.java:331)\r\n\tat org.postgresql.core.ConnectionFactory.openConnection(ConnectionFactory.java:49)\r\n\tat org.postgresql.jdbc.PgConnection.<init>(PgConnection.java:247)\r\n\tat org.postgresql.Driver.makeConnection(Driver.java:434)\r\n\tat org.postgresql.Driver.connect(Driver.java:291)\r\n\tat org.apache.spark.sql.execution.datasources.jdbc.JdbcUtils$.$anonfun$createConnectionFactory$1(JdbcUtils.scala:64)\r\n\tat org.apache.spark.sql.execution.datasources.jdbc.JdbcRelationProvider.createRelation(JdbcRelationProvider.scala:48)\r\n\tat org.apache.spark.sql.execution.datasources.SaveIntoDataSourceCommand.run(SaveIntoDataSourceCommand.scala:46)\r\n\tat org.apache.spark.sql.execution.command.ExecutedCommandExec.sideEffectResult$lzycompute(commands.scala:70)\r\n\tat org.apache.spark.sql.execution.command.ExecutedCommandExec.sideEffectResult(commands.scala:68)\r\n\tat org.apache.spark.sql.execution.command.ExecutedCommandExec.doExecute(commands.scala:90)\r\n\tat org.apache.spark.sql.execution.SparkPlan.$anonfun$execute$1(SparkPlan.scala:175)\r\n\tat org.apache.spark.sql.execution.SparkPlan.$anonfun$executeQuery$1(SparkPlan.scala:213)\r\n\tat org.apache.spark.rdd.RDDOperationScope$.withScope(RDDOperationScope.scala:151)\r\n\tat org.apache.spark.sql.execution.SparkPlan.executeQuery(SparkPlan.scala:210)\r\n\tat org.apache.spark.sql.execution.SparkPlan.execute(SparkPlan.scala:171)\r\n\tat org.apache.spark.sql.execution.QueryExecution.toRdd$lzycompute(QueryExecution.scala:122)\r\n\tat org.apache.spark.sql.execution.QueryExecution.toRdd(QueryExecution.scala:121)\r\n\tat org.apache.spark.sql.DataFrameWriter.$anonfun$runCommand$1(DataFrameWriter.scala:963)\r\n\tat org.apache.spark.sql.execution.SQLExecution$.$anonfun$withNewExecutionId$5(SQLExecution.scala:100)\r\n\tat org.apache.spark.sql.execution.SQLExecution$.withSQLConfPropagated(SQLExecution.scala:160)\r\n\tat org.apache.spark.sql.execution.SQLExecution$.$anonfun$withNewExecutionId$1(SQLExecution.scala:87)\r\n\tat org.apache.spark.sql.SparkSession.withActive(SparkSession.scala:764)\r\n\tat org.apache.spark.sql.execution.SQLExecution$.withNewExecutionId(SQLExecution.scala:64)\r\n\tat org.apache.spark.sql.DataFrameWriter.runCommand(DataFrameWriter.scala:963)\r\n\tat org.apache.spark.sql.DataFrameWriter.saveToV1Source(DataFrameWriter.scala:415)\r\n\tat org.apache.spark.sql.DataFrameWriter.save(DataFrameWriter.scala:399)\r\n\tat org.apache.spark.sql.DataFrameWriter.jdbc(DataFrameWriter.scala:791)\r\n\tat sun.reflect.NativeMethodAccessorImpl.invoke0(Native Method)\r\n\tat sun.reflect.NativeMethodAccessorImpl.invoke(NativeMethodAccessorImpl.java:62)\r\n\tat sun.reflect.DelegatingMethodAccessorImpl.invoke(DelegatingMethodAccessorImpl.java:43)\r\n\tat java.lang.reflect.Method.invoke(Method.java:498)\r\n\tat py4j.reflection.MethodInvoker.invoke(MethodInvoker.java:244)\r\n\tat py4j.reflection.ReflectionEngine.invoke(ReflectionEngine.java:357)\r\n\tat py4j.Gateway.invoke(Gateway.java:282)\r\n\tat py4j.commands.AbstractCommand.invokeMethod(AbstractCommand.java:132)\r\n\tat py4j.commands.CallCommand.execute(CallCommand.java:79)\r\n\tat py4j.GatewayConnection.run(GatewayConnection.java:238)\r\n\tat java.lang.Thread.run(Thread.java:748)\r\nCaused by: java.net.UnknownHostException: postgres-db\r\n\tat java.net.AbstractPlainSocketImpl.connect(AbstractPlainSocketImpl.java:196)\r\n\tat java.net.PlainSocketImpl.connect(PlainSocketImpl.java:162)\r\n\tat java.net.SocksSocketImpl.connect(SocksSocketImpl.java:394)\r\n\tat java.net.Socket.connect(Socket.java:606)\r\n\tat org.postgresql.core.PGStream.createSocket(PGStream.java:241)\r\n\tat org.postgresql.core.PGStream.<init>(PGStream.java:98)\r\n\tat org.postgresql.core.v3.ConnectionFactoryImpl.tryConnect(ConnectionFactoryImpl.java:109)\r\n\tat org.postgresql.core.v3.ConnectionFactoryImpl.openConnectionImpl(ConnectionFactoryImpl.java:235)\r\n\t... 38 more\r\n"
     ]
    }
   ],
   "source": [
    "top100byratio_wiki_df.write \\\n",
    "                     .mode('overwrite') \\\n",
    "                     .jdbc(\n",
    "                        url=postgres_connection_properties[\"url\"],\n",
    "                        table=postgres_connection_properties[\"table\"],\n",
    "                        properties=postgres_connection_properties\n",
    "                         )"
   ]
  },
  {
   "cell_type": "markdown",
   "id": "9e67ffaf-bc21-423f-80ee-db2ca84e6d60",
   "metadata": {},
   "source": [
    "##### Proof read data from Postgres"
   ]
  },
  {
   "cell_type": "code",
   "execution_count": 18,
   "id": "70feb527-ed18-439c-988f-2cd9cdac915e",
   "metadata": {},
   "outputs": [
    {
     "ename": "Py4JJavaError",
     "evalue": "An error occurred while calling o47.jdbc.\n: org.postgresql.util.PSQLException: The connection attempt failed.\r\n\tat org.postgresql.core.v3.ConnectionFactoryImpl.openConnectionImpl(ConnectionFactoryImpl.java:331)\r\n\tat org.postgresql.core.ConnectionFactory.openConnection(ConnectionFactory.java:49)\r\n\tat org.postgresql.jdbc.PgConnection.<init>(PgConnection.java:247)\r\n\tat org.postgresql.Driver.makeConnection(Driver.java:434)\r\n\tat org.postgresql.Driver.connect(Driver.java:291)\r\n\tat org.apache.spark.sql.execution.datasources.jdbc.JdbcUtils$.$anonfun$createConnectionFactory$1(JdbcUtils.scala:64)\r\n\tat org.apache.spark.sql.execution.datasources.jdbc.JDBCRDD$.resolveTable(JDBCRDD.scala:56)\r\n\tat org.apache.spark.sql.execution.datasources.jdbc.JDBCRelation$.getSchema(JDBCRelation.scala:226)\r\n\tat org.apache.spark.sql.execution.datasources.jdbc.JdbcRelationProvider.createRelation(JdbcRelationProvider.scala:35)\r\n\tat org.apache.spark.sql.execution.datasources.DataSource.resolveRelation(DataSource.scala:344)\r\n\tat org.apache.spark.sql.DataFrameReader.loadV1Source(DataFrameReader.scala:297)\r\n\tat org.apache.spark.sql.DataFrameReader.$anonfun$load$2(DataFrameReader.scala:286)\r\n\tat scala.Option.getOrElse(Option.scala:189)\r\n\tat org.apache.spark.sql.DataFrameReader.load(DataFrameReader.scala:286)\r\n\tat org.apache.spark.sql.DataFrameReader.load(DataFrameReader.scala:221)\r\n\tat org.apache.spark.sql.DataFrameReader.jdbc(DataFrameReader.scala:312)\r\n\tat sun.reflect.NativeMethodAccessorImpl.invoke0(Native Method)\r\n\tat sun.reflect.NativeMethodAccessorImpl.invoke(NativeMethodAccessorImpl.java:62)\r\n\tat sun.reflect.DelegatingMethodAccessorImpl.invoke(DelegatingMethodAccessorImpl.java:43)\r\n\tat java.lang.reflect.Method.invoke(Method.java:498)\r\n\tat py4j.reflection.MethodInvoker.invoke(MethodInvoker.java:244)\r\n\tat py4j.reflection.ReflectionEngine.invoke(ReflectionEngine.java:357)\r\n\tat py4j.Gateway.invoke(Gateway.java:282)\r\n\tat py4j.commands.AbstractCommand.invokeMethod(AbstractCommand.java:132)\r\n\tat py4j.commands.CallCommand.execute(CallCommand.java:79)\r\n\tat py4j.GatewayConnection.run(GatewayConnection.java:238)\r\n\tat java.lang.Thread.run(Thread.java:748)\r\nCaused by: java.net.UnknownHostException: postgres-db\r\n\tat java.net.AbstractPlainSocketImpl.connect(AbstractPlainSocketImpl.java:196)\r\n\tat java.net.PlainSocketImpl.connect(PlainSocketImpl.java:162)\r\n\tat java.net.SocksSocketImpl.connect(SocksSocketImpl.java:394)\r\n\tat java.net.Socket.connect(Socket.java:606)\r\n\tat org.postgresql.core.PGStream.createSocket(PGStream.java:241)\r\n\tat org.postgresql.core.PGStream.<init>(PGStream.java:98)\r\n\tat org.postgresql.core.v3.ConnectionFactoryImpl.tryConnect(ConnectionFactoryImpl.java:109)\r\n\tat org.postgresql.core.v3.ConnectionFactoryImpl.openConnectionImpl(ConnectionFactoryImpl.java:235)\r\n\t... 26 more\r\n",
     "output_type": "error",
     "traceback": [
      "\u001b[1;31m---------------------------------------------------------------------------\u001b[0m",
      "\u001b[1;31mPy4JJavaError\u001b[0m                             Traceback (most recent call last)",
      "Input \u001b[1;32mIn [18]\u001b[0m, in \u001b[0;36m<cell line: 1>\u001b[1;34m()\u001b[0m\n\u001b[1;32m----> 1\u001b[0m top100byratio_postgres \u001b[38;5;241m=\u001b[39m \u001b[43mspark\u001b[49m\u001b[38;5;241;43m.\u001b[39;49m\u001b[43mread\u001b[49m\u001b[38;5;241;43m.\u001b[39;49m\u001b[43mjdbc\u001b[49m\u001b[43m(\u001b[49m\n\u001b[0;32m      2\u001b[0m \u001b[43m    \u001b[49m\u001b[43murl\u001b[49m\u001b[38;5;241;43m=\u001b[39;49m\u001b[43mpostgres_connection_properties\u001b[49m\u001b[43m[\u001b[49m\u001b[38;5;124;43m\"\u001b[39;49m\u001b[38;5;124;43murl\u001b[39;49m\u001b[38;5;124;43m\"\u001b[39;49m\u001b[43m]\u001b[49m\u001b[43m,\u001b[49m\n\u001b[0;32m      3\u001b[0m \u001b[43m    \u001b[49m\u001b[43mtable\u001b[49m\u001b[38;5;241;43m=\u001b[39;49m\u001b[43mpostgres_connection_properties\u001b[49m\u001b[43m[\u001b[49m\u001b[38;5;124;43m\"\u001b[39;49m\u001b[38;5;124;43mtable\u001b[39;49m\u001b[38;5;124;43m\"\u001b[39;49m\u001b[43m]\u001b[49m\u001b[43m,\u001b[49m\n\u001b[0;32m      4\u001b[0m \u001b[43m    \u001b[49m\u001b[43mproperties\u001b[49m\u001b[38;5;241;43m=\u001b[39;49m\u001b[43mpostgres_connection_properties\u001b[49m\n\u001b[0;32m      5\u001b[0m \u001b[43m)\u001b[49m\n",
      "File \u001b[1;32m~\\Anaconda3\\envs\\full_py39\\lib\\site-packages\\pyspark\\sql\\readwriter.py:631\u001b[0m, in \u001b[0;36mDataFrameReader.jdbc\u001b[1;34m(self, url, table, column, lowerBound, upperBound, numPartitions, predicates, properties)\u001b[0m\n\u001b[0;32m    629\u001b[0m     jpredicates \u001b[38;5;241m=\u001b[39m utils\u001b[38;5;241m.\u001b[39mtoJArray(gateway, gateway\u001b[38;5;241m.\u001b[39mjvm\u001b[38;5;241m.\u001b[39mjava\u001b[38;5;241m.\u001b[39mlang\u001b[38;5;241m.\u001b[39mString, predicates)\n\u001b[0;32m    630\u001b[0m     \u001b[38;5;28;01mreturn\u001b[39;00m \u001b[38;5;28mself\u001b[39m\u001b[38;5;241m.\u001b[39m_df(\u001b[38;5;28mself\u001b[39m\u001b[38;5;241m.\u001b[39m_jreader\u001b[38;5;241m.\u001b[39mjdbc(url, table, jpredicates, jprop))\n\u001b[1;32m--> 631\u001b[0m \u001b[38;5;28;01mreturn\u001b[39;00m \u001b[38;5;28mself\u001b[39m\u001b[38;5;241m.\u001b[39m_df(\u001b[38;5;28;43mself\u001b[39;49m\u001b[38;5;241;43m.\u001b[39;49m\u001b[43m_jreader\u001b[49m\u001b[38;5;241;43m.\u001b[39;49m\u001b[43mjdbc\u001b[49m\u001b[43m(\u001b[49m\u001b[43murl\u001b[49m\u001b[43m,\u001b[49m\u001b[43m \u001b[49m\u001b[43mtable\u001b[49m\u001b[43m,\u001b[49m\u001b[43m \u001b[49m\u001b[43mjprop\u001b[49m\u001b[43m)\u001b[49m)\n",
      "File \u001b[1;32m~\\Anaconda3\\envs\\full_py39\\lib\\site-packages\\py4j\\java_gateway.py:1304\u001b[0m, in \u001b[0;36mJavaMember.__call__\u001b[1;34m(self, *args)\u001b[0m\n\u001b[0;32m   1298\u001b[0m command \u001b[38;5;241m=\u001b[39m proto\u001b[38;5;241m.\u001b[39mCALL_COMMAND_NAME \u001b[38;5;241m+\u001b[39m\\\n\u001b[0;32m   1299\u001b[0m     \u001b[38;5;28mself\u001b[39m\u001b[38;5;241m.\u001b[39mcommand_header \u001b[38;5;241m+\u001b[39m\\\n\u001b[0;32m   1300\u001b[0m     args_command \u001b[38;5;241m+\u001b[39m\\\n\u001b[0;32m   1301\u001b[0m     proto\u001b[38;5;241m.\u001b[39mEND_COMMAND_PART\n\u001b[0;32m   1303\u001b[0m answer \u001b[38;5;241m=\u001b[39m \u001b[38;5;28mself\u001b[39m\u001b[38;5;241m.\u001b[39mgateway_client\u001b[38;5;241m.\u001b[39msend_command(command)\n\u001b[1;32m-> 1304\u001b[0m return_value \u001b[38;5;241m=\u001b[39m \u001b[43mget_return_value\u001b[49m\u001b[43m(\u001b[49m\n\u001b[0;32m   1305\u001b[0m \u001b[43m    \u001b[49m\u001b[43manswer\u001b[49m\u001b[43m,\u001b[49m\u001b[43m \u001b[49m\u001b[38;5;28;43mself\u001b[39;49m\u001b[38;5;241;43m.\u001b[39;49m\u001b[43mgateway_client\u001b[49m\u001b[43m,\u001b[49m\u001b[43m \u001b[49m\u001b[38;5;28;43mself\u001b[39;49m\u001b[38;5;241;43m.\u001b[39;49m\u001b[43mtarget_id\u001b[49m\u001b[43m,\u001b[49m\u001b[43m \u001b[49m\u001b[38;5;28;43mself\u001b[39;49m\u001b[38;5;241;43m.\u001b[39;49m\u001b[43mname\u001b[49m\u001b[43m)\u001b[49m\n\u001b[0;32m   1307\u001b[0m \u001b[38;5;28;01mfor\u001b[39;00m temp_arg \u001b[38;5;129;01min\u001b[39;00m temp_args:\n\u001b[0;32m   1308\u001b[0m     temp_arg\u001b[38;5;241m.\u001b[39m_detach()\n",
      "File \u001b[1;32m~\\Anaconda3\\envs\\full_py39\\lib\\site-packages\\pyspark\\sql\\utils.py:128\u001b[0m, in \u001b[0;36mcapture_sql_exception.<locals>.deco\u001b[1;34m(*a, **kw)\u001b[0m\n\u001b[0;32m    126\u001b[0m \u001b[38;5;28;01mdef\u001b[39;00m \u001b[38;5;21mdeco\u001b[39m(\u001b[38;5;241m*\u001b[39ma, \u001b[38;5;241m*\u001b[39m\u001b[38;5;241m*\u001b[39mkw):\n\u001b[0;32m    127\u001b[0m     \u001b[38;5;28;01mtry\u001b[39;00m:\n\u001b[1;32m--> 128\u001b[0m         \u001b[38;5;28;01mreturn\u001b[39;00m f(\u001b[38;5;241m*\u001b[39ma, \u001b[38;5;241m*\u001b[39m\u001b[38;5;241m*\u001b[39mkw)\n\u001b[0;32m    129\u001b[0m     \u001b[38;5;28;01mexcept\u001b[39;00m py4j\u001b[38;5;241m.\u001b[39mprotocol\u001b[38;5;241m.\u001b[39mPy4JJavaError \u001b[38;5;28;01mas\u001b[39;00m e:\n\u001b[0;32m    130\u001b[0m         converted \u001b[38;5;241m=\u001b[39m convert_exception(e\u001b[38;5;241m.\u001b[39mjava_exception)\n",
      "File \u001b[1;32m~\\Anaconda3\\envs\\full_py39\\lib\\site-packages\\py4j\\protocol.py:326\u001b[0m, in \u001b[0;36mget_return_value\u001b[1;34m(answer, gateway_client, target_id, name)\u001b[0m\n\u001b[0;32m    324\u001b[0m value \u001b[38;5;241m=\u001b[39m OUTPUT_CONVERTER[\u001b[38;5;28mtype\u001b[39m](answer[\u001b[38;5;241m2\u001b[39m:], gateway_client)\n\u001b[0;32m    325\u001b[0m \u001b[38;5;28;01mif\u001b[39;00m answer[\u001b[38;5;241m1\u001b[39m] \u001b[38;5;241m==\u001b[39m REFERENCE_TYPE:\n\u001b[1;32m--> 326\u001b[0m     \u001b[38;5;28;01mraise\u001b[39;00m Py4JJavaError(\n\u001b[0;32m    327\u001b[0m         \u001b[38;5;124m\"\u001b[39m\u001b[38;5;124mAn error occurred while calling \u001b[39m\u001b[38;5;132;01m{0}\u001b[39;00m\u001b[38;5;132;01m{1}\u001b[39;00m\u001b[38;5;132;01m{2}\u001b[39;00m\u001b[38;5;124m.\u001b[39m\u001b[38;5;130;01m\\n\u001b[39;00m\u001b[38;5;124m\"\u001b[39m\u001b[38;5;241m.\u001b[39m\n\u001b[0;32m    328\u001b[0m         \u001b[38;5;28mformat\u001b[39m(target_id, \u001b[38;5;124m\"\u001b[39m\u001b[38;5;124m.\u001b[39m\u001b[38;5;124m\"\u001b[39m, name), value)\n\u001b[0;32m    329\u001b[0m \u001b[38;5;28;01melse\u001b[39;00m:\n\u001b[0;32m    330\u001b[0m     \u001b[38;5;28;01mraise\u001b[39;00m Py4JError(\n\u001b[0;32m    331\u001b[0m         \u001b[38;5;124m\"\u001b[39m\u001b[38;5;124mAn error occurred while calling \u001b[39m\u001b[38;5;132;01m{0}\u001b[39;00m\u001b[38;5;132;01m{1}\u001b[39;00m\u001b[38;5;132;01m{2}\u001b[39;00m\u001b[38;5;124m. Trace:\u001b[39m\u001b[38;5;130;01m\\n\u001b[39;00m\u001b[38;5;132;01m{3}\u001b[39;00m\u001b[38;5;130;01m\\n\u001b[39;00m\u001b[38;5;124m\"\u001b[39m\u001b[38;5;241m.\u001b[39m\n\u001b[0;32m    332\u001b[0m         \u001b[38;5;28mformat\u001b[39m(target_id, \u001b[38;5;124m\"\u001b[39m\u001b[38;5;124m.\u001b[39m\u001b[38;5;124m\"\u001b[39m, name, value))\n",
      "\u001b[1;31mPy4JJavaError\u001b[0m: An error occurred while calling o47.jdbc.\n: org.postgresql.util.PSQLException: The connection attempt failed.\r\n\tat org.postgresql.core.v3.ConnectionFactoryImpl.openConnectionImpl(ConnectionFactoryImpl.java:331)\r\n\tat org.postgresql.core.ConnectionFactory.openConnection(ConnectionFactory.java:49)\r\n\tat org.postgresql.jdbc.PgConnection.<init>(PgConnection.java:247)\r\n\tat org.postgresql.Driver.makeConnection(Driver.java:434)\r\n\tat org.postgresql.Driver.connect(Driver.java:291)\r\n\tat org.apache.spark.sql.execution.datasources.jdbc.JdbcUtils$.$anonfun$createConnectionFactory$1(JdbcUtils.scala:64)\r\n\tat org.apache.spark.sql.execution.datasources.jdbc.JDBCRDD$.resolveTable(JDBCRDD.scala:56)\r\n\tat org.apache.spark.sql.execution.datasources.jdbc.JDBCRelation$.getSchema(JDBCRelation.scala:226)\r\n\tat org.apache.spark.sql.execution.datasources.jdbc.JdbcRelationProvider.createRelation(JdbcRelationProvider.scala:35)\r\n\tat org.apache.spark.sql.execution.datasources.DataSource.resolveRelation(DataSource.scala:344)\r\n\tat org.apache.spark.sql.DataFrameReader.loadV1Source(DataFrameReader.scala:297)\r\n\tat org.apache.spark.sql.DataFrameReader.$anonfun$load$2(DataFrameReader.scala:286)\r\n\tat scala.Option.getOrElse(Option.scala:189)\r\n\tat org.apache.spark.sql.DataFrameReader.load(DataFrameReader.scala:286)\r\n\tat org.apache.spark.sql.DataFrameReader.load(DataFrameReader.scala:221)\r\n\tat org.apache.spark.sql.DataFrameReader.jdbc(DataFrameReader.scala:312)\r\n\tat sun.reflect.NativeMethodAccessorImpl.invoke0(Native Method)\r\n\tat sun.reflect.NativeMethodAccessorImpl.invoke(NativeMethodAccessorImpl.java:62)\r\n\tat sun.reflect.DelegatingMethodAccessorImpl.invoke(DelegatingMethodAccessorImpl.java:43)\r\n\tat java.lang.reflect.Method.invoke(Method.java:498)\r\n\tat py4j.reflection.MethodInvoker.invoke(MethodInvoker.java:244)\r\n\tat py4j.reflection.ReflectionEngine.invoke(ReflectionEngine.java:357)\r\n\tat py4j.Gateway.invoke(Gateway.java:282)\r\n\tat py4j.commands.AbstractCommand.invokeMethod(AbstractCommand.java:132)\r\n\tat py4j.commands.CallCommand.execute(CallCommand.java:79)\r\n\tat py4j.GatewayConnection.run(GatewayConnection.java:238)\r\n\tat java.lang.Thread.run(Thread.java:748)\r\nCaused by: java.net.UnknownHostException: postgres-db\r\n\tat java.net.AbstractPlainSocketImpl.connect(AbstractPlainSocketImpl.java:196)\r\n\tat java.net.PlainSocketImpl.connect(PlainSocketImpl.java:162)\r\n\tat java.net.SocksSocketImpl.connect(SocksSocketImpl.java:394)\r\n\tat java.net.Socket.connect(Socket.java:606)\r\n\tat org.postgresql.core.PGStream.createSocket(PGStream.java:241)\r\n\tat org.postgresql.core.PGStream.<init>(PGStream.java:98)\r\n\tat org.postgresql.core.v3.ConnectionFactoryImpl.tryConnect(ConnectionFactoryImpl.java:109)\r\n\tat org.postgresql.core.v3.ConnectionFactoryImpl.openConnectionImpl(ConnectionFactoryImpl.java:235)\r\n\t... 26 more\r\n"
     ]
    }
   ],
   "source": [
    "top100byratio_postgres = spark.read.jdbc(\n",
    "    url=postgres_connection_properties[\"url\"],\n",
    "    table=postgres_connection_properties[\"table\"],\n",
    "    properties=postgres_connection_properties\n",
    ")"
   ]
  },
  {
   "cell_type": "code",
   "execution_count": 28,
   "id": "23224503-dc8d-4294-8dca-a05cc664a63a",
   "metadata": {},
   "outputs": [
    {
     "name": "stdout",
     "output_type": "stream",
     "text": [
      "+--------------------+--------+---------+------+--------------------+----+------+----+--------+\n",
      "|      original_title|  budget|  revenue|rating|production_companies|year| ratio| url|abstract|\n",
      "+--------------------+--------+---------+------+--------------------+----+------+----+--------+\n",
      "|  Gone with the Wind| 4000000|400176459|   7.7|[{'name': 'Selzni...|1939|100.04|null|    null|\n",
      "|           Halloween|  300000| 70000000|   7.4|[{'name': 'Compas...|1978|233.33|null|    null|\n",
      "|     Vanishing Point| 1300000| 72266306|   7.1|[{'name': 'Twenti...|1971| 55.59|null|    null|\n",
      "|Saturday Night Fever| 3500000|237113184|   6.5|[{'name': 'Paramo...|1977| 67.75|null|    null|\n",
      "|       Dirty Dancing| 6000000|213954274|   7.1|[{'name': 'Great ...|1987| 35.66|null|    null|\n",
      "|          Goldfinger| 2500000|124881062|   7.2|[{'name': 'United...|1964| 49.95|null|    null|\n",
      "|   American Graffiti|  777000|140000000|   6.9|[{'name': 'Lucasf...|1973|180.18|null|    null|\n",
      "|      The Big Parade|  245000| 22000000|   7.0|[{'name': 'Metro-...|1925|  89.8|null|    null|\n",
      "| The Hills Have Eyes|  230000| 25000000|   6.1|[{'name': 'Blood ...|1977| 108.7|null|    null|\n",
      "|    Crocodile Dundee| 5000000|328203506|   6.3|[{'name': 'Paramo...|1986| 65.64|null|    null|\n",
      "|          Eraserhead|   10000|  7000000|   7.5|[{'name': 'Americ...|1977| 700.0|null|    null|\n",
      "|         Blood Feast|   24500|  4000000|   5.3|[{'name': 'Friedm...|1963|163.27|null|    null|\n",
      "|20,000 Leagues Un...|  200000|  8000000|   6.0|[{'name': 'The Un...|1916|  40.0|null|    null|\n",
      "| Alice in Wonderland| 3000000|572000000|   7.0|[{'name': 'RKO Ra...|1951|190.67|null|    null|\n",
      "|      人再囧途之泰囧| 2200000|208000000|   6.1|[{'name': 'Enligh...|2012| 94.55|null|    null|\n",
      "|                Once|  160000| 20710513|   7.4|[{'name': 'Summit...|2007|129.44|null|    null|\n",
      "|     The Jungle Book| 4000000|205843612|   7.1|[{'name': 'Walt D...|1967| 51.46|null|    null|\n",
      "|E.T. the Extra-Te...|10500000|792965326|   7.3|[{'name': 'Univer...|1982| 75.52|null|    null|\n",
      "|            猛龍過江|  130000| 85000000|   7.4|[{'name': 'Golden...|1972|653.85|null|    null|\n",
      "|The Legend of Bog...|  100000| 22000000|   5.6|[{'name': 'P & L'...|1972| 220.0|null|    null|\n",
      "+--------------------+--------+---------+------+--------------------+----+------+----+--------+\n",
      "only showing top 20 rows\n",
      "\n"
     ]
    }
   ],
   "source": [
    "top100byratio_postgres.show()"
   ]
  },
  {
   "cell_type": "markdown",
   "id": "f1172a31-5a65-441e-a538-f43209a478b8",
   "metadata": {},
   "source": [
    "# Query Postgres with Pandas (psycopg2)"
   ]
  },
  {
   "cell_type": "code",
   "execution_count": 33,
   "id": "76cc5a15-e4e5-4e90-aa29-c89142fb62ee",
   "metadata": {},
   "outputs": [],
   "source": [
    "engine = create_engine(POSTGRES_CONNECTION_STRING)"
   ]
  },
  {
   "cell_type": "code",
   "execution_count": 34,
   "id": "969e38f3-2609-4832-be02-caeaa94beed7",
   "metadata": {},
   "outputs": [
    {
     "data": {
      "text/html": [
       "<div>\n",
       "<style scoped>\n",
       "    .dataframe tbody tr th:only-of-type {\n",
       "        vertical-align: middle;\n",
       "    }\n",
       "\n",
       "    .dataframe tbody tr th {\n",
       "        vertical-align: top;\n",
       "    }\n",
       "\n",
       "    .dataframe thead th {\n",
       "        text-align: right;\n",
       "    }\n",
       "</style>\n",
       "<table border=\"1\" class=\"dataframe\">\n",
       "  <thead>\n",
       "    <tr style=\"text-align: right;\">\n",
       "      <th></th>\n",
       "      <th>original_title</th>\n",
       "      <th>budget</th>\n",
       "      <th>revenue</th>\n",
       "      <th>rating</th>\n",
       "      <th>production_companies</th>\n",
       "      <th>year</th>\n",
       "      <th>ratio</th>\n",
       "      <th>url</th>\n",
       "      <th>abstract</th>\n",
       "    </tr>\n",
       "  </thead>\n",
       "  <tbody>\n",
       "    <tr>\n",
       "      <th>0</th>\n",
       "      <td>The Graduate</td>\n",
       "      <td>3000000</td>\n",
       "      <td>104945305</td>\n",
       "      <td>7.6</td>\n",
       "      <td>[{'name': 'Lawrence Turman', 'id': 8793}]</td>\n",
       "      <td>1967</td>\n",
       "      <td>34.98</td>\n",
       "      <td>None</td>\n",
       "      <td>None</td>\n",
       "    </tr>\n",
       "  </tbody>\n",
       "</table>\n",
       "</div>"
      ],
      "text/plain": [
       "  original_title   budget    revenue  rating  \\\n",
       "0   The Graduate  3000000  104945305     7.6   \n",
       "\n",
       "                        production_companies  year  ratio   url abstract  \n",
       "0  [{'name': 'Lawrence Turman', 'id': 8793}]  1967  34.98  None     None  "
      ]
     },
     "execution_count": 34,
     "metadata": {},
     "output_type": "execute_result"
    }
   ],
   "source": [
    "pd_from_postgres = pd.read_sql(\"SELECT * FROM {table} WHERE original_title='Star Wars';\".format(table=POSTGRES_TABLE), engine)\n",
    "pd_from_postgres"
   ]
  },
  {
   "cell_type": "code",
   "execution_count": 35,
   "id": "c06587ce-c984-42d3-b43f-bfe1d73a1510",
   "metadata": {},
   "outputs": [
    {
     "name": "stdout",
     "output_type": "stream",
     "text": [
      "+--------------+-------+---------+------+--------------------+----+-----+----+--------+\n",
      "|original_title| budget|  revenue|rating|production_companies|year|ratio| url|abstract|\n",
      "+--------------+-------+---------+------+--------------------+----+-----+----+--------+\n",
      "|  The Graduate|3000000|104945305|   7.6|[{'name': 'Lawren...|1967|34.98|null|    null|\n",
      "+--------------+-------+---------+------+--------------------+----+-----+----+--------+\n",
      "\n"
     ]
    }
   ],
   "source": [
    "from_pandas_df = spark.createDataFrame(pd_from_postgres, schema=top100byratio_postgres.schema)\n",
    "from_pandas_df.show()"
   ]
  },
  {
   "cell_type": "code",
   "execution_count": null,
   "id": "63e01993-07e7-41a0-9fc4-53e182477853",
   "metadata": {},
   "outputs": [],
   "source": []
  },
  {
   "cell_type": "code",
   "execution_count": null,
   "id": "bef35262-2e23-4957-82e2-6da286fb15ec",
   "metadata": {},
   "outputs": [],
   "source": []
  },
  {
   "cell_type": "code",
   "execution_count": null,
   "id": "39a41faf-f5db-4a89-b4ba-819bcfb3eede",
   "metadata": {},
   "outputs": [],
   "source": []
  },
  {
   "cell_type": "markdown",
   "id": "ee038ee1-42a1-466c-ae65-c1b4ba87085a",
   "metadata": {},
   "source": [
    "# Sources"
   ]
  },
  {
   "cell_type": "markdown",
   "id": "b70d032c-4b43-414c-94d4-cc0666e9ed5e",
   "metadata": {},
   "source": [
    "# https://github.com/databricks/spark-xml\n",
    "# https://jdbc.postgresql.org/download/\n",
    "# https://spark.apache.org/docs/2.4.0/sql-data-sources-jdbc.html"
   ]
  }
 ],
 "metadata": {
  "kernelspec": {
   "display_name": "Python 3 (ipykernel)",
   "language": "python",
   "name": "python3"
  },
  "language_info": {
   "codemirror_mode": {
    "name": "ipython",
    "version": 3
   },
   "file_extension": ".py",
   "mimetype": "text/x-python",
   "name": "python",
   "nbconvert_exporter": "python",
   "pygments_lexer": "ipython3",
   "version": "3.9.12"
  }
 },
 "nbformat": 4,
 "nbformat_minor": 5
}
